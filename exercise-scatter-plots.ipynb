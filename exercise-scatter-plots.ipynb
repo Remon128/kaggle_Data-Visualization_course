{
 "cells": [
  {
   "cell_type": "markdown",
   "id": "5ef8376c",
   "metadata": {
    "papermill": {
     "duration": 0.035299,
     "end_time": "2022-02-12T14:51:14.447472",
     "exception": false,
     "start_time": "2022-02-12T14:51:14.412173",
     "status": "completed"
    },
    "tags": []
   },
   "source": [
    "**This notebook is an exercise in the [Data Visualization](https://www.kaggle.com/learn/data-visualization) course.  You can reference the tutorial at [this link](https://www.kaggle.com/alexisbcook/scatter-plots).**\n",
    "\n",
    "---\n"
   ]
  },
  {
   "cell_type": "markdown",
   "id": "817776b1",
   "metadata": {
    "papermill": {
     "duration": 0.033697,
     "end_time": "2022-02-12T14:51:14.514736",
     "exception": false,
     "start_time": "2022-02-12T14:51:14.481039",
     "status": "completed"
    },
    "tags": []
   },
   "source": [
    "In this exercise, you will use your new knowledge to propose a solution to a real-world scenario.  To succeed, you will need to import data into Python, answer questions using the data, and generate **scatter plots** to understand patterns in the data.\n",
    "\n",
    "## Scenario\n",
    "\n",
    "You work for a major candy producer, and your goal is to write a report that your company can use to guide the design of its next product.  Soon after starting your research, you stumble across this [very interesting dataset](https://fivethirtyeight.com/features/the-ultimate-halloween-candy-power-ranking/) containing results from a fun survey to crowdsource favorite candies.\n",
    "\n",
    "## Setup\n",
    "\n",
    "Run the next cell to import and configure the Python libraries that you need to complete the exercise."
   ]
  },
  {
   "cell_type": "code",
   "execution_count": 1,
   "id": "1d445824",
   "metadata": {
    "execution": {
     "iopub.execute_input": "2022-02-12T14:51:14.590962Z",
     "iopub.status.busy": "2022-02-12T14:51:14.590322Z",
     "iopub.status.idle": "2022-02-12T14:51:15.608932Z",
     "shell.execute_reply": "2022-02-12T14:51:15.608168Z",
     "shell.execute_reply.started": "2022-02-12T14:01:04.190216Z"
    },
    "papermill": {
     "duration": 1.060156,
     "end_time": "2022-02-12T14:51:15.609095",
     "exception": false,
     "start_time": "2022-02-12T14:51:14.548939",
     "status": "completed"
    },
    "tags": []
   },
   "outputs": [
    {
     "name": "stdout",
     "output_type": "stream",
     "text": [
      "Setup Complete\n"
     ]
    }
   ],
   "source": [
    "import pandas as pd\n",
    "pd.plotting.register_matplotlib_converters()\n",
    "import matplotlib.pyplot as plt\n",
    "%matplotlib inline\n",
    "import seaborn as sns\n",
    "print(\"Setup Complete\")"
   ]
  },
  {
   "cell_type": "markdown",
   "id": "d67307c2",
   "metadata": {
    "papermill": {
     "duration": 0.034125,
     "end_time": "2022-02-12T14:51:15.678107",
     "exception": false,
     "start_time": "2022-02-12T14:51:15.643982",
     "status": "completed"
    },
    "tags": []
   },
   "source": [
    "The questions below will give you feedback on your work. Run the following cell to set up our feedback system."
   ]
  },
  {
   "cell_type": "code",
   "execution_count": 2,
   "id": "bf0b5c85",
   "metadata": {
    "execution": {
     "iopub.execute_input": "2022-02-12T14:51:15.753119Z",
     "iopub.status.busy": "2022-02-12T14:51:15.752484Z",
     "iopub.status.idle": "2022-02-12T14:51:15.809995Z",
     "shell.execute_reply": "2022-02-12T14:51:15.810761Z",
     "shell.execute_reply.started": "2022-02-12T14:01:08.282810Z"
    },
    "papermill": {
     "duration": 0.098736,
     "end_time": "2022-02-12T14:51:15.810981",
     "exception": false,
     "start_time": "2022-02-12T14:51:15.712245",
     "status": "completed"
    },
    "tags": []
   },
   "outputs": [
    {
     "name": "stdout",
     "output_type": "stream",
     "text": [
      "Setup Complete\n"
     ]
    }
   ],
   "source": [
    "# Set up code checking\n",
    "import os\n",
    "if not os.path.exists(\"../input/candy.csv\"):\n",
    "    os.symlink(\"../input/data-for-datavis/candy.csv\", \"../input/candy.csv\") \n",
    "from learntools.core import binder\n",
    "binder.bind(globals())\n",
    "from learntools.data_viz_to_coder.ex4 import *\n",
    "print(\"Setup Complete\")"
   ]
  },
  {
   "cell_type": "markdown",
   "id": "add3e66f",
   "metadata": {
    "papermill": {
     "duration": 0.035348,
     "end_time": "2022-02-12T14:51:15.882026",
     "exception": false,
     "start_time": "2022-02-12T14:51:15.846678",
     "status": "completed"
    },
    "tags": []
   },
   "source": [
    "## Step 1: Load the Data\n",
    "\n",
    "Read the candy data file into `candy_data`.  Use the `\"id\"` column to label the rows."
   ]
  },
  {
   "cell_type": "code",
   "execution_count": 3,
   "id": "5f26d0b1",
   "metadata": {
    "execution": {
     "iopub.execute_input": "2022-02-12T14:51:15.958046Z",
     "iopub.status.busy": "2022-02-12T14:51:15.955877Z",
     "iopub.status.idle": "2022-02-12T14:51:15.969427Z",
     "shell.execute_reply": "2022-02-12T14:51:15.969843Z",
     "shell.execute_reply.started": "2022-02-12T14:01:37.471201Z"
    },
    "papermill": {
     "duration": 0.051811,
     "end_time": "2022-02-12T14:51:15.969993",
     "exception": false,
     "start_time": "2022-02-12T14:51:15.918182",
     "status": "completed"
    },
    "tags": []
   },
   "outputs": [
    {
     "data": {
      "application/javascript": [
       "parent.postMessage({\"jupyterEvent\": \"custom.exercise_interaction\", \"data\": {\"outcomeType\": 1, \"valueTowardsCompletion\": 0.3333333333333333, \"interactionType\": 1, \"questionType\": 1, \"questionId\": \"1_LoadData\", \"learnToolsVersion\": \"0.3.4\", \"failureMessage\": \"\", \"exceptionClass\": \"\", \"trace\": \"\"}}, \"*\")"
      ],
      "text/plain": [
       "<IPython.core.display.Javascript object>"
      ]
     },
     "metadata": {},
     "output_type": "display_data"
    },
    {
     "data": {
      "text/markdown": [
       "<span style=\"color:#33cc33\">Correct</span>"
      ],
      "text/plain": [
       "Correct"
      ]
     },
     "metadata": {},
     "output_type": "display_data"
    }
   ],
   "source": [
    "# Path of the file to read\n",
    "candy_filepath = \"../input/candy.csv\"\n",
    "\n",
    "# Fill in the line below to read the file into a variable candy_data\n",
    "candy_data = pd.read_csv(candy_filepath, index_col=\"id\")\n",
    "\n",
    "# Run the line below with no changes to check that you've loaded the data correctly\n",
    "step_1.check()"
   ]
  },
  {
   "cell_type": "code",
   "execution_count": 4,
   "id": "e337301b",
   "metadata": {
    "execution": {
     "iopub.execute_input": "2022-02-12T14:51:16.044986Z",
     "iopub.status.busy": "2022-02-12T14:51:16.044309Z",
     "iopub.status.idle": "2022-02-12T14:51:16.046572Z",
     "shell.execute_reply": "2022-02-12T14:51:16.047021Z",
     "shell.execute_reply.started": "2022-02-12T14:01:12.339239Z"
    },
    "papermill": {
     "duration": 0.041516,
     "end_time": "2022-02-12T14:51:16.047167",
     "exception": false,
     "start_time": "2022-02-12T14:51:16.005651",
     "status": "completed"
    },
    "tags": []
   },
   "outputs": [],
   "source": [
    "# Lines below will give you a hint or solution code\n",
    "#step_1.hint()\n",
    "#step_1.solution()"
   ]
  },
  {
   "cell_type": "markdown",
   "id": "8260d298",
   "metadata": {
    "papermill": {
     "duration": 0.03515,
     "end_time": "2022-02-12T14:51:16.117445",
     "exception": false,
     "start_time": "2022-02-12T14:51:16.082295",
     "status": "completed"
    },
    "tags": []
   },
   "source": [
    "## Step 2: Review the data\n",
    "\n",
    "Use a Python command to print the first five rows of the data."
   ]
  },
  {
   "cell_type": "code",
   "execution_count": 5,
   "id": "b269e4a4",
   "metadata": {
    "execution": {
     "iopub.execute_input": "2022-02-12T14:51:16.192221Z",
     "iopub.status.busy": "2022-02-12T14:51:16.191589Z",
     "iopub.status.idle": "2022-02-12T14:51:16.215684Z",
     "shell.execute_reply": "2022-02-12T14:51:16.216208Z",
     "shell.execute_reply.started": "2022-02-12T14:02:12.930252Z"
    },
    "papermill": {
     "duration": 0.063086,
     "end_time": "2022-02-12T14:51:16.216361",
     "exception": false,
     "start_time": "2022-02-12T14:51:16.153275",
     "status": "completed"
    },
    "tags": []
   },
   "outputs": [
    {
     "data": {
      "text/html": [
       "<div>\n",
       "<style scoped>\n",
       "    .dataframe tbody tr th:only-of-type {\n",
       "        vertical-align: middle;\n",
       "    }\n",
       "\n",
       "    .dataframe tbody tr th {\n",
       "        vertical-align: top;\n",
       "    }\n",
       "\n",
       "    .dataframe thead th {\n",
       "        text-align: right;\n",
       "    }\n",
       "</style>\n",
       "<table border=\"1\" class=\"dataframe\">\n",
       "  <thead>\n",
       "    <tr style=\"text-align: right;\">\n",
       "      <th></th>\n",
       "      <th>competitorname</th>\n",
       "      <th>chocolate</th>\n",
       "      <th>fruity</th>\n",
       "      <th>caramel</th>\n",
       "      <th>peanutyalmondy</th>\n",
       "      <th>nougat</th>\n",
       "      <th>crispedricewafer</th>\n",
       "      <th>hard</th>\n",
       "      <th>bar</th>\n",
       "      <th>pluribus</th>\n",
       "      <th>sugarpercent</th>\n",
       "      <th>pricepercent</th>\n",
       "      <th>winpercent</th>\n",
       "    </tr>\n",
       "    <tr>\n",
       "      <th>id</th>\n",
       "      <th></th>\n",
       "      <th></th>\n",
       "      <th></th>\n",
       "      <th></th>\n",
       "      <th></th>\n",
       "      <th></th>\n",
       "      <th></th>\n",
       "      <th></th>\n",
       "      <th></th>\n",
       "      <th></th>\n",
       "      <th></th>\n",
       "      <th></th>\n",
       "      <th></th>\n",
       "    </tr>\n",
       "  </thead>\n",
       "  <tbody>\n",
       "    <tr>\n",
       "      <th>0</th>\n",
       "      <td>100 Grand</td>\n",
       "      <td>Yes</td>\n",
       "      <td>No</td>\n",
       "      <td>Yes</td>\n",
       "      <td>No</td>\n",
       "      <td>No</td>\n",
       "      <td>Yes</td>\n",
       "      <td>No</td>\n",
       "      <td>Yes</td>\n",
       "      <td>No</td>\n",
       "      <td>0.732</td>\n",
       "      <td>0.860</td>\n",
       "      <td>66.971725</td>\n",
       "    </tr>\n",
       "    <tr>\n",
       "      <th>1</th>\n",
       "      <td>3 Musketeers</td>\n",
       "      <td>Yes</td>\n",
       "      <td>No</td>\n",
       "      <td>No</td>\n",
       "      <td>No</td>\n",
       "      <td>Yes</td>\n",
       "      <td>No</td>\n",
       "      <td>No</td>\n",
       "      <td>Yes</td>\n",
       "      <td>No</td>\n",
       "      <td>0.604</td>\n",
       "      <td>0.511</td>\n",
       "      <td>67.602936</td>\n",
       "    </tr>\n",
       "    <tr>\n",
       "      <th>2</th>\n",
       "      <td>Air Heads</td>\n",
       "      <td>No</td>\n",
       "      <td>Yes</td>\n",
       "      <td>No</td>\n",
       "      <td>No</td>\n",
       "      <td>No</td>\n",
       "      <td>No</td>\n",
       "      <td>No</td>\n",
       "      <td>No</td>\n",
       "      <td>No</td>\n",
       "      <td>0.906</td>\n",
       "      <td>0.511</td>\n",
       "      <td>52.341465</td>\n",
       "    </tr>\n",
       "    <tr>\n",
       "      <th>3</th>\n",
       "      <td>Almond Joy</td>\n",
       "      <td>Yes</td>\n",
       "      <td>No</td>\n",
       "      <td>No</td>\n",
       "      <td>Yes</td>\n",
       "      <td>No</td>\n",
       "      <td>No</td>\n",
       "      <td>No</td>\n",
       "      <td>Yes</td>\n",
       "      <td>No</td>\n",
       "      <td>0.465</td>\n",
       "      <td>0.767</td>\n",
       "      <td>50.347546</td>\n",
       "    </tr>\n",
       "    <tr>\n",
       "      <th>4</th>\n",
       "      <td>Baby Ruth</td>\n",
       "      <td>Yes</td>\n",
       "      <td>No</td>\n",
       "      <td>Yes</td>\n",
       "      <td>Yes</td>\n",
       "      <td>Yes</td>\n",
       "      <td>No</td>\n",
       "      <td>No</td>\n",
       "      <td>Yes</td>\n",
       "      <td>No</td>\n",
       "      <td>0.604</td>\n",
       "      <td>0.767</td>\n",
       "      <td>56.914547</td>\n",
       "    </tr>\n",
       "    <tr>\n",
       "      <th>...</th>\n",
       "      <td>...</td>\n",
       "      <td>...</td>\n",
       "      <td>...</td>\n",
       "      <td>...</td>\n",
       "      <td>...</td>\n",
       "      <td>...</td>\n",
       "      <td>...</td>\n",
       "      <td>...</td>\n",
       "      <td>...</td>\n",
       "      <td>...</td>\n",
       "      <td>...</td>\n",
       "      <td>...</td>\n",
       "      <td>...</td>\n",
       "    </tr>\n",
       "    <tr>\n",
       "      <th>78</th>\n",
       "      <td>Twizzlers</td>\n",
       "      <td>No</td>\n",
       "      <td>Yes</td>\n",
       "      <td>No</td>\n",
       "      <td>No</td>\n",
       "      <td>No</td>\n",
       "      <td>No</td>\n",
       "      <td>No</td>\n",
       "      <td>No</td>\n",
       "      <td>No</td>\n",
       "      <td>0.220</td>\n",
       "      <td>0.116</td>\n",
       "      <td>45.466282</td>\n",
       "    </tr>\n",
       "    <tr>\n",
       "      <th>79</th>\n",
       "      <td>Warheads</td>\n",
       "      <td>No</td>\n",
       "      <td>Yes</td>\n",
       "      <td>No</td>\n",
       "      <td>No</td>\n",
       "      <td>No</td>\n",
       "      <td>No</td>\n",
       "      <td>Yes</td>\n",
       "      <td>No</td>\n",
       "      <td>No</td>\n",
       "      <td>0.093</td>\n",
       "      <td>0.116</td>\n",
       "      <td>39.011898</td>\n",
       "    </tr>\n",
       "    <tr>\n",
       "      <th>80</th>\n",
       "      <td>Welch's Fruit Snacks</td>\n",
       "      <td>No</td>\n",
       "      <td>Yes</td>\n",
       "      <td>No</td>\n",
       "      <td>No</td>\n",
       "      <td>No</td>\n",
       "      <td>No</td>\n",
       "      <td>No</td>\n",
       "      <td>No</td>\n",
       "      <td>Yes</td>\n",
       "      <td>0.313</td>\n",
       "      <td>0.313</td>\n",
       "      <td>44.375519</td>\n",
       "    </tr>\n",
       "    <tr>\n",
       "      <th>81</th>\n",
       "      <td>Werther's Original Caramel</td>\n",
       "      <td>No</td>\n",
       "      <td>No</td>\n",
       "      <td>Yes</td>\n",
       "      <td>No</td>\n",
       "      <td>No</td>\n",
       "      <td>No</td>\n",
       "      <td>Yes</td>\n",
       "      <td>No</td>\n",
       "      <td>No</td>\n",
       "      <td>0.186</td>\n",
       "      <td>0.267</td>\n",
       "      <td>41.904308</td>\n",
       "    </tr>\n",
       "    <tr>\n",
       "      <th>82</th>\n",
       "      <td>Whoppers</td>\n",
       "      <td>Yes</td>\n",
       "      <td>No</td>\n",
       "      <td>No</td>\n",
       "      <td>No</td>\n",
       "      <td>No</td>\n",
       "      <td>Yes</td>\n",
       "      <td>No</td>\n",
       "      <td>No</td>\n",
       "      <td>Yes</td>\n",
       "      <td>0.872</td>\n",
       "      <td>0.848</td>\n",
       "      <td>49.524113</td>\n",
       "    </tr>\n",
       "  </tbody>\n",
       "</table>\n",
       "<p>83 rows × 13 columns</p>\n",
       "</div>"
      ],
      "text/plain": [
       "                competitorname chocolate fruity caramel peanutyalmondy nougat  \\\n",
       "id                                                                              \n",
       "0                    100 Grand       Yes     No     Yes             No     No   \n",
       "1                 3 Musketeers       Yes     No      No             No    Yes   \n",
       "2                    Air Heads        No    Yes      No             No     No   \n",
       "3                   Almond Joy       Yes     No      No            Yes     No   \n",
       "4                    Baby Ruth       Yes     No     Yes            Yes    Yes   \n",
       "..                         ...       ...    ...     ...            ...    ...   \n",
       "78                   Twizzlers        No    Yes      No             No     No   \n",
       "79                    Warheads        No    Yes      No             No     No   \n",
       "80        Welch's Fruit Snacks        No    Yes      No             No     No   \n",
       "81  Werther's Original Caramel        No     No     Yes             No     No   \n",
       "82                    Whoppers       Yes     No      No             No     No   \n",
       "\n",
       "   crispedricewafer hard  bar pluribus  sugarpercent  pricepercent  winpercent  \n",
       "id                                                                              \n",
       "0               Yes   No  Yes       No         0.732         0.860   66.971725  \n",
       "1                No   No  Yes       No         0.604         0.511   67.602936  \n",
       "2                No   No   No       No         0.906         0.511   52.341465  \n",
       "3                No   No  Yes       No         0.465         0.767   50.347546  \n",
       "4                No   No  Yes       No         0.604         0.767   56.914547  \n",
       "..              ...  ...  ...      ...           ...           ...         ...  \n",
       "78               No   No   No       No         0.220         0.116   45.466282  \n",
       "79               No  Yes   No       No         0.093         0.116   39.011898  \n",
       "80               No   No   No      Yes         0.313         0.313   44.375519  \n",
       "81               No  Yes   No       No         0.186         0.267   41.904308  \n",
       "82              Yes   No   No      Yes         0.872         0.848   49.524113  \n",
       "\n",
       "[83 rows x 13 columns]"
      ]
     },
     "execution_count": 5,
     "metadata": {},
     "output_type": "execute_result"
    }
   ],
   "source": [
    "# Print the first five rows of the data\n",
    "____ # Your code here\n",
    "candy_data\n"
   ]
  },
  {
   "cell_type": "markdown",
   "id": "240eba30",
   "metadata": {
    "papermill": {
     "duration": 0.036201,
     "end_time": "2022-02-12T14:51:16.289043",
     "exception": false,
     "start_time": "2022-02-12T14:51:16.252842",
     "status": "completed"
    },
    "tags": []
   },
   "source": [
    "The dataset contains 83 rows, where each corresponds to a different candy bar.  There are 13 columns:\n",
    "- `'competitorname'` contains the name of the candy bar. \n",
    "- the next **9** columns (from `'chocolate'` to `'pluribus'`) describe the candy.  For instance, rows with chocolate candies have `\"Yes\"` in the `'chocolate'` column (and candies without chocolate have `\"No\"` in the same column).\n",
    "- `'sugarpercent'` provides some indication of the amount of sugar, where higher values signify higher sugar content.\n",
    "- `'pricepercent'` shows the price per unit, relative to the other candies in the dataset.\n",
    "- `'winpercent'` is calculated from the survey results; higher values indicate that the candy was more popular with survey respondents.\n",
    "\n",
    "Use the first five rows of the data to answer the questions below."
   ]
  },
  {
   "cell_type": "code",
   "execution_count": 6,
   "id": "8dc17e32",
   "metadata": {
    "execution": {
     "iopub.execute_input": "2022-02-12T14:51:16.366493Z",
     "iopub.status.busy": "2022-02-12T14:51:16.365868Z",
     "iopub.status.idle": "2022-02-12T14:51:16.373616Z",
     "shell.execute_reply": "2022-02-12T14:51:16.374073Z",
     "shell.execute_reply.started": "2022-02-12T14:24:08.595632Z"
    },
    "papermill": {
     "duration": 0.04785,
     "end_time": "2022-02-12T14:51:16.374245",
     "exception": false,
     "start_time": "2022-02-12T14:51:16.326395",
     "status": "completed"
    },
    "tags": []
   },
   "outputs": [
    {
     "data": {
      "application/javascript": [
       "parent.postMessage({\"jupyterEvent\": \"custom.exercise_interaction\", \"data\": {\"outcomeType\": 1, \"valueTowardsCompletion\": 0.3333333333333333, \"interactionType\": 1, \"questionType\": 1, \"questionId\": \"2_ReviewData\", \"learnToolsVersion\": \"0.3.4\", \"failureMessage\": \"\", \"exceptionClass\": \"\", \"trace\": \"\"}}, \"*\")"
      ],
      "text/plain": [
       "<IPython.core.display.Javascript object>"
      ]
     },
     "metadata": {},
     "output_type": "display_data"
    },
    {
     "data": {
      "text/markdown": [
       "<span style=\"color:#33cc33\">Correct</span>"
      ],
      "text/plain": [
       "Correct"
      ]
     },
     "metadata": {},
     "output_type": "display_data"
    }
   ],
   "source": [
    "# Fill in the line below: Which candy was more popular with survey respondents:\n",
    "# '3 Musketeers' or 'Almond Joy'?  (Please enclose your answer in single quotes.)\n",
    "more_popular = \"3 Musketeers\"\n",
    "\n",
    "# Fill in the line below: Which candy has higher sugar content: 'Air Heads'\n",
    "# or 'Baby Ruth'? (Please enclose your answer in single quotes.)\n",
    "more_sugar = \"Air Heads\"\n",
    "\n",
    "# Check your answers\n",
    "step_2.check()"
   ]
  },
  {
   "cell_type": "code",
   "execution_count": 7,
   "id": "9be7549c",
   "metadata": {
    "execution": {
     "iopub.execute_input": "2022-02-12T14:51:16.453915Z",
     "iopub.status.busy": "2022-02-12T14:51:16.453269Z",
     "iopub.status.idle": "2022-02-12T14:51:16.455061Z",
     "shell.execute_reply": "2022-02-12T14:51:16.455536Z"
    },
    "papermill": {
     "duration": 0.043765,
     "end_time": "2022-02-12T14:51:16.455704",
     "exception": false,
     "start_time": "2022-02-12T14:51:16.411939",
     "status": "completed"
    },
    "tags": []
   },
   "outputs": [],
   "source": [
    "# Lines below will give you a hint or solution code\n",
    "#step_2.hint()\n",
    "#step_2.solution()"
   ]
  },
  {
   "cell_type": "markdown",
   "id": "6d40a80e",
   "metadata": {
    "papermill": {
     "duration": 0.037908,
     "end_time": "2022-02-12T14:51:16.531630",
     "exception": false,
     "start_time": "2022-02-12T14:51:16.493722",
     "status": "completed"
    },
    "tags": []
   },
   "source": [
    "## Step 3: The role of sugar\n",
    "\n",
    "Do people tend to prefer candies with higher sugar content?  \n",
    "\n",
    "#### Part A\n",
    "\n",
    "Create a scatter plot that shows the relationship between `'sugarpercent'` (on the horizontal x-axis) and `'winpercent'` (on the vertical y-axis).  _Don't add a regression line just yet -- you'll do that in the next step!_"
   ]
  },
  {
   "cell_type": "code",
   "execution_count": 8,
   "id": "6c5f68ea",
   "metadata": {
    "execution": {
     "iopub.execute_input": "2022-02-12T14:51:16.611468Z",
     "iopub.status.busy": "2022-02-12T14:51:16.610834Z",
     "iopub.status.idle": "2022-02-12T14:51:16.865610Z",
     "shell.execute_reply": "2022-02-12T14:51:16.866105Z",
     "shell.execute_reply.started": "2022-02-12T14:25:12.155182Z"
    },
    "papermill": {
     "duration": 0.296143,
     "end_time": "2022-02-12T14:51:16.866262",
     "exception": false,
     "start_time": "2022-02-12T14:51:16.570119",
     "status": "completed"
    },
    "tags": []
   },
   "outputs": [
    {
     "data": {
      "application/javascript": [
       "parent.postMessage({\"jupyterEvent\": \"custom.exercise_interaction\", \"data\": {\"outcomeType\": 1, \"valueTowardsCompletion\": 0.3333333333333333, \"interactionType\": 1, \"questionType\": 2, \"questionId\": \"3.1_PlotBlueScatter\", \"learnToolsVersion\": \"0.3.4\", \"failureMessage\": \"\", \"exceptionClass\": \"\", \"trace\": \"\"}}, \"*\")"
      ],
      "text/plain": [
       "<IPython.core.display.Javascript object>"
      ]
     },
     "metadata": {},
     "output_type": "display_data"
    },
    {
     "data": {
      "text/markdown": [
       "<span style=\"color:#33cc33\">Correct</span>"
      ],
      "text/plain": [
       "Correct"
      ]
     },
     "metadata": {},
     "output_type": "display_data"
    },
    {
     "data": {
      "image/png": "[encoded data removed]",
      "text/plain": [
       "<Figure size 432x288 with 1 Axes>"
      ]
     },
     "metadata": {
      "needs_background": "light"
     },
     "output_type": "display_data"
    }
   ],
   "source": [
    "# Scatter plot showing the relationship between 'sugarpercent' and 'winpercent'\n",
    "____ # Your code here\n",
    "sns.scatterplot(x=candy_data['sugarpercent'], y=candy_data['winpercent'])\n",
    "\n",
    "# Check your answer\n",
    "step_3.a.check()"
   ]
  },
  {
   "cell_type": "code",
   "execution_count": 9,
   "id": "83cd8960",
   "metadata": {
    "execution": {
     "iopub.execute_input": "2022-02-12T14:51:16.951463Z",
     "iopub.status.busy": "2022-02-12T14:51:16.950772Z",
     "iopub.status.idle": "2022-02-12T14:51:16.953341Z",
     "shell.execute_reply": "2022-02-12T14:51:16.953822Z",
     "shell.execute_reply.started": "2022-02-12T14:24:45.197529Z"
    },
    "papermill": {
     "duration": 0.046859,
     "end_time": "2022-02-12T14:51:16.953976",
     "exception": false,
     "start_time": "2022-02-12T14:51:16.907117",
     "status": "completed"
    },
    "tags": []
   },
   "outputs": [],
   "source": [
    "# Lines below will give you a hint or solution code\n",
    "#step_3.a.hint()\n",
    "#step_3.a.solution_plot()"
   ]
  },
  {
   "cell_type": "markdown",
   "id": "78f5ebed",
   "metadata": {
    "papermill": {
     "duration": 0.039597,
     "end_time": "2022-02-12T14:51:17.033685",
     "exception": false,
     "start_time": "2022-02-12T14:51:16.994088",
     "status": "completed"
    },
    "tags": []
   },
   "source": [
    "#### Part B\n",
    "\n",
    "Does the scatter plot show a **strong** correlation between the two variables?  If so, are candies with more sugar relatively more or less popular with the survey respondents?"
   ]
  },
  {
   "cell_type": "code",
   "execution_count": 10,
   "id": "f4316232",
   "metadata": {
    "execution": {
     "iopub.execute_input": "2022-02-12T14:51:17.117045Z",
     "iopub.status.busy": "2022-02-12T14:51:17.116432Z",
     "iopub.status.idle": "2022-02-12T14:51:17.119611Z",
     "shell.execute_reply": "2022-02-12T14:51:17.120306Z"
    },
    "papermill": {
     "duration": 0.046464,
     "end_time": "2022-02-12T14:51:17.120503",
     "exception": false,
     "start_time": "2022-02-12T14:51:17.074039",
     "status": "completed"
    },
    "tags": []
   },
   "outputs": [],
   "source": [
    "#step_3.b.hint()"
   ]
  },
  {
   "cell_type": "code",
   "execution_count": 11,
   "id": "a2c4ff20",
   "metadata": {
    "execution": {
     "iopub.execute_input": "2022-02-12T14:51:17.204414Z",
     "iopub.status.busy": "2022-02-12T14:51:17.203689Z",
     "iopub.status.idle": "2022-02-12T14:51:17.209181Z",
     "shell.execute_reply": "2022-02-12T14:51:17.209701Z",
     "shell.execute_reply.started": "2022-02-12T14:25:55.638869Z"
    },
    "papermill": {
     "duration": 0.049367,
     "end_time": "2022-02-12T14:51:17.209863",
     "exception": false,
     "start_time": "2022-02-12T14:51:17.160496",
     "status": "completed"
    },
    "tags": []
   },
   "outputs": [
    {
     "data": {
      "application/javascript": [
       "parent.postMessage({\"jupyterEvent\": \"custom.exercise_interaction\", \"data\": {\"interactionType\": 3, \"questionType\": 4, \"questionId\": \"3.2_ThinkBlueScatter\", \"learnToolsVersion\": \"0.3.4\", \"valueTowardsCompletion\": 0.0, \"failureMessage\": \"\", \"exceptionClass\": \"\", \"trace\": \"\", \"outcomeType\": 4}}, \"*\")"
      ],
      "text/plain": [
       "<IPython.core.display.Javascript object>"
      ]
     },
     "metadata": {},
     "output_type": "display_data"
    },
    {
     "data": {
      "text/markdown": [
       "<span style=\"color:#33cc99\">Solution:</span> The scatter plot does not show a strong correlation between the two variables. Since there is no clear relationship between the two variables, this tells us that sugar content does not play a strong role in candy popularity."
      ],
      "text/plain": [
       "Solution: The scatter plot does not show a strong correlation between the two variables. Since there is no clear relationship between the two variables, this tells us that sugar content does not play a strong role in candy popularity."
      ]
     },
     "metadata": {},
     "output_type": "display_data"
    }
   ],
   "source": [
    "# Check your answer (Run this code cell to receive credit!)\n",
    "step_3.b.solution()"
   ]
  },
  {
   "cell_type": "markdown",
   "id": "e8cebd47",
   "metadata": {
    "papermill": {
     "duration": 0.040907,
     "end_time": "2022-02-12T14:51:17.292147",
     "exception": false,
     "start_time": "2022-02-12T14:51:17.251240",
     "status": "completed"
    },
    "tags": []
   },
   "source": [
    "## Step 4: Take a closer look\n",
    "\n",
    "#### Part A\n",
    "\n",
    "Create the same scatter plot you created in **Step 3**, but now with a regression line!"
   ]
  },
  {
   "cell_type": "code",
   "execution_count": 12,
   "id": "7a09e024",
   "metadata": {
    "execution": {
     "iopub.execute_input": "2022-02-12T14:51:17.376824Z",
     "iopub.status.busy": "2022-02-12T14:51:17.376169Z",
     "iopub.status.idle": "2022-02-12T14:51:17.700418Z",
     "shell.execute_reply": "2022-02-12T14:51:17.700986Z",
     "shell.execute_reply.started": "2022-02-12T14:29:12.087172Z"
    },
    "papermill": {
     "duration": 0.368129,
     "end_time": "2022-02-12T14:51:17.701166",
     "exception": false,
     "start_time": "2022-02-12T14:51:17.333037",
     "status": "completed"
    },
    "tags": []
   },
   "outputs": [
    {
     "data": {
      "application/javascript": [
       "parent.postMessage({\"jupyterEvent\": \"custom.exercise_interaction\", \"data\": {\"outcomeType\": 1, \"valueTowardsCompletion\": 0.3333333333333333, \"interactionType\": 1, \"questionType\": 2, \"questionId\": \"4.1_PlotBlueReg\", \"learnToolsVersion\": \"0.3.4\", \"failureMessage\": \"\", \"exceptionClass\": \"\", \"trace\": \"\"}}, \"*\")"
      ],
      "text/plain": [
       "<IPython.core.display.Javascript object>"
      ]
     },
     "metadata": {},
     "output_type": "display_data"
    },
    {
     "data": {
      "text/markdown": [
       "<span style=\"color:#33cc33\">Correct</span>"
      ],
      "text/plain": [
       "Correct"
      ]
     },
     "metadata": {},
     "output_type": "display_data"
    },
    {
     "data": {
      "image/png": "[encoded data removed]",
      "text/plain": [
       "<Figure size 432x288 with 1 Axes>"
      ]
     },
     "metadata": {
      "needs_background": "light"
     },
     "output_type": "display_data"
    }
   ],
   "source": [
    "# Scatter plot w/ regression line showing the relationship between 'sugarpercent' and 'winpercent'\n",
    "____ # Your code here\n",
    "sns.regplot(x=candy_data['sugarpercent'], y=candy_data['winpercent'])\n",
    "# Check your answer\n",
    "step_4.a.check()"
   ]
  },
  {
   "cell_type": "code",
   "execution_count": 13,
   "id": "a4b7abd1",
   "metadata": {
    "execution": {
     "iopub.execute_input": "2022-02-12T14:51:17.793394Z",
     "iopub.status.busy": "2022-02-12T14:51:17.791373Z",
     "iopub.status.idle": "2022-02-12T14:51:17.796766Z",
     "shell.execute_reply": "2022-02-12T14:51:17.796265Z",
     "shell.execute_reply.started": "2022-02-12T14:27:35.765911Z"
    },
    "papermill": {
     "duration": 0.051587,
     "end_time": "2022-02-12T14:51:17.796901",
     "exception": false,
     "start_time": "2022-02-12T14:51:17.745314",
     "status": "completed"
    },
    "tags": []
   },
   "outputs": [],
   "source": [
    "# Lines below will give you a hint or solution code\n",
    "#step_4.a.hint()\n",
    "#step_4.a.solution_plot()"
   ]
  },
  {
   "cell_type": "markdown",
   "id": "79adb68b",
   "metadata": {
    "papermill": {
     "duration": 0.04406,
     "end_time": "2022-02-12T14:51:17.884931",
     "exception": false,
     "start_time": "2022-02-12T14:51:17.840871",
     "status": "completed"
    },
    "tags": []
   },
   "source": [
    "#### Part B\n",
    "\n",
    "According to the plot above, is there a **slight** correlation between `'winpercent'` and `'sugarpercent'`?  What does this tell you about the candy that people tend to prefer?"
   ]
  },
  {
   "cell_type": "code",
   "execution_count": 14,
   "id": "1fc49077",
   "metadata": {
    "execution": {
     "iopub.execute_input": "2022-02-12T14:51:17.976643Z",
     "iopub.status.busy": "2022-02-12T14:51:17.975981Z",
     "iopub.status.idle": "2022-02-12T14:51:17.983028Z",
     "shell.execute_reply": "2022-02-12T14:51:17.983614Z"
    },
    "papermill": {
     "duration": 0.054989,
     "end_time": "2022-02-12T14:51:17.983769",
     "exception": false,
     "start_time": "2022-02-12T14:51:17.928780",
     "status": "completed"
    },
    "tags": []
   },
   "outputs": [
    {
     "data": {
      "application/javascript": [
       "parent.postMessage({\"jupyterEvent\": \"custom.exercise_interaction\", \"data\": {\"interactionType\": 2, \"questionType\": 4, \"questionId\": \"4.2_ThinkBlueReg\", \"learnToolsVersion\": \"0.3.4\", \"valueTowardsCompletion\": 0.0, \"failureMessage\": \"\", \"exceptionClass\": \"\", \"trace\": \"\", \"outcomeType\": 4}}, \"*\")"
      ],
      "text/plain": [
       "<IPython.core.display.Javascript object>"
      ]
     },
     "metadata": {},
     "output_type": "display_data"
    },
    {
     "data": {
      "text/markdown": [
       "<span style=\"color:#3366cc\">Hint:</span> Does the regression line have a positive or negative slope?"
      ],
      "text/plain": [
       "Hint: Does the regression line have a positive or negative slope?"
      ]
     },
     "metadata": {},
     "output_type": "display_data"
    }
   ],
   "source": [
    "step_4.b.hint()"
   ]
  },
  {
   "cell_type": "code",
   "execution_count": 15,
   "id": "c57ca1a0",
   "metadata": {
    "execution": {
     "iopub.execute_input": "2022-02-12T14:51:18.076626Z",
     "iopub.status.busy": "2022-02-12T14:51:18.076002Z",
     "iopub.status.idle": "2022-02-12T14:51:18.081876Z",
     "shell.execute_reply": "2022-02-12T14:51:18.082403Z",
     "shell.execute_reply.started": "2022-02-12T14:29:43.819026Z"
    },
    "papermill": {
     "duration": 0.053362,
     "end_time": "2022-02-12T14:51:18.082546",
     "exception": false,
     "start_time": "2022-02-12T14:51:18.029184",
     "status": "completed"
    },
    "tags": []
   },
   "outputs": [
    {
     "data": {
      "application/javascript": [
       "parent.postMessage({\"jupyterEvent\": \"custom.exercise_interaction\", \"data\": {\"interactionType\": 3, \"questionType\": 4, \"questionId\": \"4.2_ThinkBlueReg\", \"learnToolsVersion\": \"0.3.4\", \"valueTowardsCompletion\": 0.0, \"failureMessage\": \"\", \"exceptionClass\": \"\", \"trace\": \"\", \"outcomeType\": 4}}, \"*\")"
      ],
      "text/plain": [
       "<IPython.core.display.Javascript object>"
      ]
     },
     "metadata": {},
     "output_type": "display_data"
    },
    {
     "data": {
      "text/markdown": [
       "<span style=\"color:#33cc99\">Solution:</span> Since the regression line has a slightly positive slope, this tells us that there is a slightly positive correlation between `'winpercent'` and `'sugarpercent'`. Thus, people have a slight preference for candies containing relatively more sugar."
      ],
      "text/plain": [
       "Solution: Since the regression line has a slightly positive slope, this tells us that there is a slightly positive correlation between `'winpercent'` and `'sugarpercent'`. Thus, people have a slight preference for candies containing relatively more sugar."
      ]
     },
     "metadata": {},
     "output_type": "display_data"
    }
   ],
   "source": [
    "# Check your answer (Run this code cell to receive credit!)\n",
    "step_4.b.solution()"
   ]
  },
  {
   "cell_type": "markdown",
   "id": "72c09322",
   "metadata": {
    "papermill": {
     "duration": 0.045271,
     "end_time": "2022-02-12T14:51:18.173374",
     "exception": false,
     "start_time": "2022-02-12T14:51:18.128103",
     "status": "completed"
    },
    "tags": []
   },
   "source": [
    "## Step 5: Chocolate!\n",
    "\n",
    "In the code cell below, create a scatter plot to show the relationship between `'pricepercent'` (on the horizontal x-axis) and `'winpercent'` (on the vertical y-axis). Use the `'chocolate'` column to color-code the points.  _Don't add any regression lines just yet -- you'll do that in the next step!_"
   ]
  },
  {
   "cell_type": "code",
   "execution_count": 16,
   "id": "c97ea394",
   "metadata": {
    "execution": {
     "iopub.execute_input": "2022-02-12T14:51:18.268035Z",
     "iopub.status.busy": "2022-02-12T14:51:18.267405Z",
     "iopub.status.idle": "2022-02-12T14:51:18.507890Z",
     "shell.execute_reply": "2022-02-12T14:51:18.507346Z",
     "shell.execute_reply.started": "2022-02-12T14:33:42.811652Z"
    },
    "papermill": {
     "duration": 0.288699,
     "end_time": "2022-02-12T14:51:18.508027",
     "exception": false,
     "start_time": "2022-02-12T14:51:18.219328",
     "status": "completed"
    },
    "tags": []
   },
   "outputs": [
    {
     "data": {
      "application/javascript": [
       "parent.postMessage({\"jupyterEvent\": \"custom.exercise_interaction\", \"data\": {\"outcomeType\": 1, \"valueTowardsCompletion\": 0.3333333333333333, \"interactionType\": 1, \"questionType\": 2, \"questionId\": \"5_ColorScatter\", \"learnToolsVersion\": \"0.3.4\", \"failureMessage\": \"\", \"exceptionClass\": \"\", \"trace\": \"\"}}, \"*\")"
      ],
      "text/plain": [
       "<IPython.core.display.Javascript object>"
      ]
     },
     "metadata": {},
     "output_type": "display_data"
    },
    {
     "data": {
      "text/markdown": [
       "<span style=\"color:#33cc33\">Correct</span>"
      ],
      "text/plain": [
       "Correct"
      ]
     },
     "metadata": {},
     "output_type": "display_data"
    },
    {
     "data": {
      "image/png": "[encoded data removed]",
      "text/plain": [
       "<Figure size 432x288 with 1 Axes>"
      ]
     },
     "metadata": {
      "needs_background": "light"
     },
     "output_type": "display_data"
    }
   ],
   "source": [
    "# Scatter plot showing the relationship between 'pricepercent', 'winpercent', and 'chocolate'\n",
    "____ # Your code here\n",
    "sns.scatterplot(x=candy_data['pricepercent'], y=candy_data['winpercent'], hue=candy_data['chocolate'])\n",
    "# Check your answer\n",
    "step_5.check()"
   ]
  },
  {
   "cell_type": "code",
   "execution_count": 17,
   "id": "aaa83e26",
   "metadata": {
    "execution": {
     "iopub.execute_input": "2022-02-12T14:51:18.610159Z",
     "iopub.status.busy": "2022-02-12T14:51:18.609136Z",
     "iopub.status.idle": "2022-02-12T14:51:18.852566Z",
     "shell.execute_reply": "2022-02-12T14:51:18.853103Z",
     "shell.execute_reply.started": "2022-02-12T14:32:33.344214Z"
    },
    "papermill": {
     "duration": 0.296507,
     "end_time": "2022-02-12T14:51:18.853267",
     "exception": false,
     "start_time": "2022-02-12T14:51:18.556760",
     "status": "completed"
    },
    "tags": []
   },
   "outputs": [
    {
     "data": {
      "application/javascript": [
       "parent.postMessage({\"jupyterEvent\": \"custom.exercise_interaction\", \"data\": {\"interactionType\": 3, \"questionType\": 2, \"questionId\": \"5_ColorScatter\", \"learnToolsVersion\": \"0.3.4\", \"valueTowardsCompletion\": 0.0, \"failureMessage\": \"\", \"exceptionClass\": \"\", \"trace\": \"\", \"outcomeType\": 4}}, \"*\")"
      ],
      "text/plain": [
       "<IPython.core.display.Javascript object>"
      ]
     },
     "metadata": {},
     "output_type": "display_data"
    },
    {
     "data": {
      "text/markdown": [
       "<span style=\"color:#33cc99\">Solution:</span> \n",
       "```python\n",
       "# Scatter plot showing the relationship between 'pricepercent', 'winpercent', and 'chocolate'\n",
       "sns.scatterplot(x=candy_data['pricepercent'], y=candy_data['winpercent'], hue=candy_data['chocolate'])\n",
       "\n",
       "```"
      ],
      "text/plain": [
       "Solution: \n",
       "```python\n",
       "# Scatter plot showing the relationship between 'pricepercent', 'winpercent', and 'chocolate'\n",
       "sns.scatterplot(x=candy_data['pricepercent'], y=candy_data['winpercent'], hue=candy_data['chocolate'])\n",
       "\n",
       "```"
      ]
     },
     "metadata": {},
     "output_type": "display_data"
    },
    {
     "data": {
      "image/png": "[encoded data removed]",
      "text/plain": [
       "<Figure size 432x288 with 1 Axes>"
      ]
     },
     "metadata": {
      "needs_background": "light"
     },
     "output_type": "display_data"
    }
   ],
   "source": [
    "# Lines below will give you a hint or solution code\n",
    "#step_5.hint()\n",
    "step_5.solution_plot()"
   ]
  },
  {
   "cell_type": "markdown",
   "id": "2a4c14db",
   "metadata": {
    "papermill": {
     "duration": 0.050792,
     "end_time": "2022-02-12T14:51:18.953850",
     "exception": false,
     "start_time": "2022-02-12T14:51:18.903058",
     "status": "completed"
    },
    "tags": []
   },
   "source": [
    "Can you see any interesting patterns in the scatter plot?  We'll investigate this plot further  by adding regression lines in the next step!\n",
    "\n",
    "## Step 6: Investigate chocolate\n",
    "\n",
    "#### Part A\n",
    "\n",
    "Create the same scatter plot you created in **Step 5**, but now with two regression lines, corresponding to (1) chocolate candies and (2) candies without chocolate."
   ]
  },
  {
   "cell_type": "code",
   "execution_count": 18,
   "id": "806d8c11",
   "metadata": {
    "execution": {
     "iopub.execute_input": "2022-02-12T14:51:19.059171Z",
     "iopub.status.busy": "2022-02-12T14:51:19.058108Z",
     "iopub.status.idle": "2022-02-12T14:51:19.691364Z",
     "shell.execute_reply": "2022-02-12T14:51:19.691821Z",
     "shell.execute_reply.started": "2022-02-12T14:39:00.256880Z"
    },
    "papermill": {
     "duration": 0.688092,
     "end_time": "2022-02-12T14:51:19.691992",
     "exception": false,
     "start_time": "2022-02-12T14:51:19.003900",
     "status": "completed"
    },
    "tags": []
   },
   "outputs": [
    {
     "data": {
      "application/javascript": [
       "parent.postMessage({\"jupyterEvent\": \"custom.exercise_interaction\", \"data\": {\"outcomeType\": 1, \"valueTowardsCompletion\": 0.3333333333333333, \"interactionType\": 1, \"questionType\": 2, \"questionId\": \"6.1_PlotColorReg\", \"learnToolsVersion\": \"0.3.4\", \"failureMessage\": \"\", \"exceptionClass\": \"\", \"trace\": \"\"}}, \"*\")"
      ],
      "text/plain": [
       "<IPython.core.display.Javascript object>"
      ]
     },
     "metadata": {},
     "output_type": "display_data"
    },
    {
     "data": {
      "text/markdown": [
       "<span style=\"color:#33cc33\">Correct</span>"
      ],
      "text/plain": [
       "Correct"
      ]
     },
     "metadata": {},
     "output_type": "display_data"
    },
    {
     "data": {
      "image/png": "[encoded data removed]",
      "text/plain": [
       "<Figure size 416.375x360 with 1 Axes>"
      ]
     },
     "metadata": {
      "needs_background": "light"
     },
     "output_type": "display_data"
    }
   ],
   "source": [
    "# Color-coded scatter plot w/ regression lines\n",
    "____ # Your code here\n",
    "sns.lmplot(x=\"pricepercent\", y=\"winpercent\", hue=\"chocolate\", data=candy_data)\n",
    "# Check your answer\n",
    "step_6.a.check()"
   ]
  },
  {
   "cell_type": "code",
   "execution_count": 19,
   "id": "ce90d831",
   "metadata": {
    "execution": {
     "iopub.execute_input": "2022-02-12T14:51:19.804121Z",
     "iopub.status.busy": "2022-02-12T14:51:19.803439Z",
     "iopub.status.idle": "2022-02-12T14:51:19.806265Z",
     "shell.execute_reply": "2022-02-12T14:51:19.805787Z",
     "shell.execute_reply.started": "2022-02-12T14:42:33.514852Z"
    },
    "papermill": {
     "duration": 0.061576,
     "end_time": "2022-02-12T14:51:19.806401",
     "exception": false,
     "start_time": "2022-02-12T14:51:19.744825",
     "status": "completed"
    },
    "tags": []
   },
   "outputs": [],
   "source": [
    "# Lines below will give you a hint or solution code\n",
    "#step_6.a.hint()\n",
    "#step_6.a.solution_plot()"
   ]
  },
  {
   "cell_type": "markdown",
   "id": "9b70bfb7",
   "metadata": {
    "papermill": {
     "duration": 0.054186,
     "end_time": "2022-02-12T14:51:19.915088",
     "exception": false,
     "start_time": "2022-02-12T14:51:19.860902",
     "status": "completed"
    },
    "tags": []
   },
   "source": [
    "#### Part B\n",
    "\n",
    "Using the regression lines, what conclusions can you draw about the effects of chocolate and price on candy popularity?"
   ]
  },
  {
   "cell_type": "code",
   "execution_count": 20,
   "id": "4855d51b",
   "metadata": {
    "execution": {
     "iopub.execute_input": "2022-02-12T14:51:20.026063Z",
     "iopub.status.busy": "2022-02-12T14:51:20.025235Z",
     "iopub.status.idle": "2022-02-12T14:51:20.028070Z",
     "shell.execute_reply": "2022-02-12T14:51:20.027527Z"
    },
    "papermill": {
     "duration": 0.060002,
     "end_time": "2022-02-12T14:51:20.028222",
     "exception": false,
     "start_time": "2022-02-12T14:51:19.968220",
     "status": "completed"
    },
    "tags": []
   },
   "outputs": [],
   "source": [
    "#step_6.b.hint()"
   ]
  },
  {
   "cell_type": "code",
   "execution_count": 21,
   "id": "0dfe2be6",
   "metadata": {
    "execution": {
     "iopub.execute_input": "2022-02-12T14:51:20.140233Z",
     "iopub.status.busy": "2022-02-12T14:51:20.139262Z",
     "iopub.status.idle": "2022-02-12T14:51:20.143581Z",
     "shell.execute_reply": "2022-02-12T14:51:20.144064Z",
     "shell.execute_reply.started": "2022-02-12T14:42:45.194289Z"
    },
    "papermill": {
     "duration": 0.062075,
     "end_time": "2022-02-12T14:51:20.144212",
     "exception": false,
     "start_time": "2022-02-12T14:51:20.082137",
     "status": "completed"
    },
    "tags": []
   },
   "outputs": [
    {
     "data": {
      "application/javascript": [
       "parent.postMessage({\"jupyterEvent\": \"custom.exercise_interaction\", \"data\": {\"interactionType\": 3, \"questionType\": 4, \"questionId\": \"6.2_ThinkColorReg\", \"learnToolsVersion\": \"0.3.4\", \"valueTowardsCompletion\": 0.0, \"failureMessage\": \"\", \"exceptionClass\": \"\", \"trace\": \"\", \"outcomeType\": 4}}, \"*\")"
      ],
      "text/plain": [
       "<IPython.core.display.Javascript object>"
      ]
     },
     "metadata": {},
     "output_type": "display_data"
    },
    {
     "data": {
      "text/markdown": [
       "<span style=\"color:#33cc99\">Solution:</span> We'll begin with the regression line for chocolate candies. Since this line has a slightly positive slope, we can say that more expensive chocolate candies tend to be more popular (than relatively cheaper chocolate candies).  Likewise, since the regression line for candies without chocolate has a negative slope, we can say that if candies don't contain chocolate, they tend to be more popular when they are cheaper.  One important note, however, is that the dataset is quite small -- so we shouldn't invest too much trust in these patterns!  To inspire more confidence in the results, we should add more candies to the dataset."
      ],
      "text/plain": [
       "Solution: We'll begin with the regression line for chocolate candies. Since this line has a slightly positive slope, we can say that more expensive chocolate candies tend to be more popular (than relatively cheaper chocolate candies).  Likewise, since the regression line for candies without chocolate has a negative slope, we can say that if candies don't contain chocolate, they tend to be more popular when they are cheaper.  One important note, however, is that the dataset is quite small -- so we shouldn't invest too much trust in these patterns!  To inspire more confidence in the results, we should add more candies to the dataset."
      ]
     },
     "metadata": {},
     "output_type": "display_data"
    }
   ],
   "source": [
    "# Check your answer (Run this code cell to receive credit!)\n",
    "step_6.b.solution()"
   ]
  },
  {
   "cell_type": "markdown",
   "id": "bbb92de9",
   "metadata": {
    "papermill": {
     "duration": 0.05374,
     "end_time": "2022-02-12T14:51:20.252477",
     "exception": false,
     "start_time": "2022-02-12T14:51:20.198737",
     "status": "completed"
    },
    "tags": []
   },
   "source": [
    "## Step 7: Everybody loves chocolate.\n",
    "\n",
    "#### Part A\n",
    "\n",
    "Create a categorical scatter plot to highlight the relationship between `'chocolate'` and `'winpercent'`.  Put `'chocolate'` on the (horizontal) x-axis, and `'winpercent'` on the (vertical) y-axis."
   ]
  },
  {
   "cell_type": "code",
   "execution_count": 22,
   "id": "c30c29ad",
   "metadata": {
    "execution": {
     "iopub.execute_input": "2022-02-12T14:51:20.364473Z",
     "iopub.status.busy": "2022-02-12T14:51:20.363865Z",
     "iopub.status.idle": "2022-02-12T14:51:20.562406Z",
     "shell.execute_reply": "2022-02-12T14:51:20.561861Z",
     "shell.execute_reply.started": "2022-02-12T14:46:37.521540Z"
    },
    "papermill": {
     "duration": 0.255457,
     "end_time": "2022-02-12T14:51:20.562548",
     "exception": false,
     "start_time": "2022-02-12T14:51:20.307091",
     "status": "completed"
    },
    "tags": []
   },
   "outputs": [
    {
     "data": {
      "application/javascript": [
       "parent.postMessage({\"jupyterEvent\": \"custom.exercise_interaction\", \"data\": {\"outcomeType\": 1, \"valueTowardsCompletion\": 0.3333333333333333, \"interactionType\": 1, \"questionType\": 2, \"questionId\": \"7.1_PlotSwarm\", \"learnToolsVersion\": \"0.3.4\", \"failureMessage\": \"\", \"exceptionClass\": \"\", \"trace\": \"\"}}, \"*\")"
      ],
      "text/plain": [
       "<IPython.core.display.Javascript object>"
      ]
     },
     "metadata": {},
     "output_type": "display_data"
    },
    {
     "data": {
      "text/markdown": [
       "<span style=\"color:#33cc33\">Correct</span>"
      ],
      "text/plain": [
       "Correct"
      ]
     },
     "metadata": {},
     "output_type": "display_data"
    },
    {
     "data": {
      "image/png": "[encoded data removed]",
      "text/plain": [
       "<Figure size 432x288 with 1 Axes>"
      ]
     },
     "metadata": {
      "needs_background": "light"
     },
     "output_type": "display_data"
    }
   ],
   "source": [
    "# Scatter plot showing the relationship between 'chocolate' and 'winpercent'\n",
    "____ # Your code here\n",
    "sns.swarmplot(x=candy_data['chocolate'], y=candy_data['winpercent'])\n",
    "# Check your answer\n",
    "step_7.a.check()"
   ]
  },
  {
   "cell_type": "code",
   "execution_count": 23,
   "id": "d05a8f65",
   "metadata": {
    "execution": {
     "iopub.execute_input": "2022-02-12T14:51:20.682380Z",
     "iopub.status.busy": "2022-02-12T14:51:20.681743Z",
     "iopub.status.idle": "2022-02-12T14:51:20.683177Z",
     "shell.execute_reply": "2022-02-12T14:51:20.683758Z",
     "shell.execute_reply.started": "2022-02-12T14:47:36.851863Z"
    },
    "papermill": {
     "duration": 0.063469,
     "end_time": "2022-02-12T14:51:20.683913",
     "exception": false,
     "start_time": "2022-02-12T14:51:20.620444",
     "status": "completed"
    },
    "tags": []
   },
   "outputs": [],
   "source": [
    "# Lines below will give you a hint or solution code\n",
    "#step_7.a.hint()\n",
    "#step_7.a.solution_plot()"
   ]
  },
  {
   "cell_type": "markdown",
   "id": "d3b9ca02",
   "metadata": {
    "papermill": {
     "duration": 0.05609,
     "end_time": "2022-02-12T14:51:20.796320",
     "exception": false,
     "start_time": "2022-02-12T14:51:20.740230",
     "status": "completed"
    },
    "tags": []
   },
   "source": [
    "#### Part B\n",
    "\n",
    "You decide to dedicate a section of your report to the fact that chocolate candies tend to be more popular than candies without chocolate.  Which plot is more appropriate to tell this story: the plot from **Step 6**, or the plot from **Step 7**?"
   ]
  },
  {
   "cell_type": "code",
   "execution_count": 24,
   "id": "d0ded309",
   "metadata": {
    "execution": {
     "iopub.execute_input": "2022-02-12T14:51:20.913611Z",
     "iopub.status.busy": "2022-02-12T14:51:20.913014Z",
     "iopub.status.idle": "2022-02-12T14:51:20.918642Z",
     "shell.execute_reply": "2022-02-12T14:51:20.919122Z",
     "shell.execute_reply.started": "2022-02-12T14:48:46.512706Z"
    },
    "papermill": {
     "duration": 0.065033,
     "end_time": "2022-02-12T14:51:20.919262",
     "exception": false,
     "start_time": "2022-02-12T14:51:20.854229",
     "status": "completed"
    },
    "tags": []
   },
   "outputs": [
    {
     "data": {
      "application/javascript": [
       "parent.postMessage({\"jupyterEvent\": \"custom.exercise_interaction\", \"data\": {\"interactionType\": 2, \"questionType\": 4, \"questionId\": \"7.2_ThinkSwarm\", \"learnToolsVersion\": \"0.3.4\", \"valueTowardsCompletion\": 0.0, \"failureMessage\": \"\", \"exceptionClass\": \"\", \"trace\": \"\", \"outcomeType\": 4}}, \"*\")"
      ],
      "text/plain": [
       "<IPython.core.display.Javascript object>"
      ]
     },
     "metadata": {},
     "output_type": "display_data"
    },
    {
     "data": {
      "text/markdown": [
       "<span style=\"color:#3366cc\">Hint:</span> Which plot communicates more information?  In general, it's good practice to use the simplest plot that tells the entire story of interest."
      ],
      "text/plain": [
       "Hint: Which plot communicates more information?  In general, it's good practice to use the simplest plot that tells the entire story of interest."
      ]
     },
     "metadata": {},
     "output_type": "display_data"
    }
   ],
   "source": [
    "step_7.b.hint()"
   ]
  },
  {
   "cell_type": "code",
   "execution_count": 25,
   "id": "d65beb47",
   "metadata": {
    "execution": {
     "iopub.execute_input": "2022-02-12T14:51:21.040743Z",
     "iopub.status.busy": "2022-02-12T14:51:21.040131Z",
     "iopub.status.idle": "2022-02-12T14:51:21.045290Z",
     "shell.execute_reply": "2022-02-12T14:51:21.045905Z",
     "shell.execute_reply.started": "2022-02-12T14:50:07.374521Z"
    },
    "papermill": {
     "duration": 0.068531,
     "end_time": "2022-02-12T14:51:21.046071",
     "exception": false,
     "start_time": "2022-02-12T14:51:20.977540",
     "status": "completed"
    },
    "tags": []
   },
   "outputs": [
    {
     "data": {
      "application/javascript": [
       "parent.postMessage({\"jupyterEvent\": \"custom.exercise_interaction\", \"data\": {\"interactionType\": 3, \"questionType\": 4, \"questionId\": \"7.2_ThinkSwarm\", \"learnToolsVersion\": \"0.3.4\", \"valueTowardsCompletion\": 0.0, \"failureMessage\": \"\", \"exceptionClass\": \"\", \"trace\": \"\", \"outcomeType\": 4}}, \"*\")"
      ],
      "text/plain": [
       "<IPython.core.display.Javascript object>"
      ]
     },
     "metadata": {},
     "output_type": "display_data"
    },
    {
     "data": {
      "text/markdown": [
       "<span style=\"color:#33cc99\">Solution:</span> In this case, the categorical scatter plot from **Step 7** is the more appropriate plot. While both plots tell the desired story, the plot from **Step 6** conveys far more information that could distract from the main point."
      ],
      "text/plain": [
       "Solution: In this case, the categorical scatter plot from **Step 7** is the more appropriate plot. While both plots tell the desired story, the plot from **Step 6** conveys far more information that could distract from the main point."
      ]
     },
     "metadata": {},
     "output_type": "display_data"
    }
   ],
   "source": [
    "# Check your answer (Run this code cell to receive credit!)\n",
    "step_7.b.solution()"
   ]
  },
  {
   "cell_type": "markdown",
   "id": "7713946c",
   "metadata": {
    "papermill": {
     "duration": 0.058049,
     "end_time": "2022-02-12T14:51:21.163902",
     "exception": false,
     "start_time": "2022-02-12T14:51:21.105853",
     "status": "completed"
    },
    "tags": []
   },
   "source": [
    "## Keep going\n",
    "\n",
    "Explore **[histograms and density plots](https://www.kaggle.com/alexisbcook/distributions)**."
   ]
  },
  {
   "cell_type": "markdown",
   "id": "b8df2c6f",
   "metadata": {
    "papermill": {
     "duration": 0.060274,
     "end_time": "2022-02-12T14:51:21.283499",
     "exception": false,
     "start_time": "2022-02-12T14:51:21.223225",
     "status": "completed"
    },
    "tags": []
   },
   "source": [
    "---\n",
    "\n",
    "\n",
    "\n",
    "\n",
    "*Have questions or comments? Visit the [course discussion forum](https://www.kaggle.com/learn/data-visualization/discussion) to chat with other learners.*"
   ]
  }
 ],
 "metadata": {
  "kernelspec": {
   "display_name": "Python 3",
   "language": "python",
   "name": "python3"
  },
  "language_info": {
   "codemirror_mode": {
    "name": "ipython",
    "version": 3
   },
   "file_extension": ".py",
   "mimetype": "text/x-python",
   "name": "python",
   "nbconvert_exporter": "python",
   "pygments_lexer": "ipython3",
   "version": "3.7.12"
  },
  "papermill": {
   "default_parameters": {},
   "duration": 16.890964,
   "end_time": "2022-02-12T14:51:21.951790",
   "environment_variables": {},
   "exception": null,
   "input_path": "__notebook__.ipynb",
   "output_path": "__notebook__.ipynb",
   "parameters": {},
   "start_time": "2022-02-12T14:51:05.060826",
   "version": "2.3.3"
  }
 },
 "nbformat": 4,
 "nbformat_minor": 5
}

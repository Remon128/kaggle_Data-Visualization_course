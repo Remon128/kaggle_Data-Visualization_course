{
 "cells": [
  {
   "cell_type": "markdown",
   "id": "a8beea4f",
   "metadata": {
    "papermill": {
     "duration": 0.028288,
     "end_time": "2022-02-12T17:14:23.580888",
     "exception": false,
     "start_time": "2022-02-12T17:14:23.552600",
     "status": "completed"
    },
    "tags": []
   },
   "source": [
    "**This notebook is an exercise in the [Data Visualization](https://www.kaggle.com/learn/data-visualization) course.  You can reference the tutorial at [this link](https://www.kaggle.com/alexisbcook/distributions).**\n",
    "\n",
    "---\n"
   ]
  },
  {
   "cell_type": "markdown",
   "id": "74d9e4c7",
   "metadata": {
    "papermill": {
     "duration": 0.02442,
     "end_time": "2022-02-12T17:14:23.631795",
     "exception": false,
     "start_time": "2022-02-12T17:14:23.607375",
     "status": "completed"
    },
    "tags": []
   },
   "source": [
    "In this exercise, you will use your new knowledge to propose a solution to a real-world scenario.  To succeed, you will need to import data into Python, answer questions using the data, and generate **histograms** and **density plots** to understand patterns in the data.\n",
    "\n",
    "## Scenario\n",
    "\n",
    "You'll work with a real-world dataset containing information collected from microscopic images of breast cancer tumors, similar to the image below.\n",
    "\n",
    "![ex4_cancer_image](https://i.imgur.com/qUESsJe.png)\n",
    "\n",
    "Each tumor has been labeled as either [**benign**](https://en.wikipedia.org/wiki/Benign_tumor) (_noncancerous_) or **malignant** (_cancerous_).\n",
    "\n",
    "To learn more about how this kind of data is used to create intelligent algorithms to classify tumors in medical settings, **watch the short video [at this link](https://www.youtube.com/watch?v=9Mz84cwVmS0)**!"
   ]
  },
  {
   "cell_type": "markdown",
   "id": "e07fe845",
   "metadata": {
    "papermill": {
     "duration": 0.024335,
     "end_time": "2022-02-12T17:14:23.680759",
     "exception": false,
     "start_time": "2022-02-12T17:14:23.656424",
     "status": "completed"
    },
    "tags": []
   },
   "source": [
    "\n",
    "\n",
    "## Setup\n",
    "\n",
    "Run the next cell to import and configure the Python libraries that you need to complete the exercise."
   ]
  },
  {
   "cell_type": "code",
   "execution_count": 1,
   "id": "c02e1a4e",
   "metadata": {
    "execution": {
     "iopub.execute_input": "2022-02-12T17:14:23.739061Z",
     "iopub.status.busy": "2022-02-12T17:14:23.737929Z",
     "iopub.status.idle": "2022-02-12T17:14:24.728436Z",
     "shell.execute_reply": "2022-02-12T17:14:24.729030Z",
     "shell.execute_reply.started": "2022-02-12T16:01:31.539618Z"
    },
    "papermill": {
     "duration": 1.023888,
     "end_time": "2022-02-12T17:14:24.729298",
     "exception": false,
     "start_time": "2022-02-12T17:14:23.705410",
     "status": "completed"
    },
    "tags": []
   },
   "outputs": [
    {
     "name": "stdout",
     "output_type": "stream",
     "text": [
      "Setup Complete\n"
     ]
    }
   ],
   "source": [
    "import pandas as pd\n",
    "pd.plotting.register_matplotlib_converters()\n",
    "import matplotlib.pyplot as plt\n",
    "%matplotlib inline\n",
    "import seaborn as sns\n",
    "print(\"Setup Complete\")"
   ]
  },
  {
   "cell_type": "markdown",
   "id": "70ef949c",
   "metadata": {
    "papermill": {
     "duration": 0.024867,
     "end_time": "2022-02-12T17:14:24.779660",
     "exception": false,
     "start_time": "2022-02-12T17:14:24.754793",
     "status": "completed"
    },
    "tags": []
   },
   "source": [
    "The questions below will give you feedback on your work. Run the following cell to set up our feedback system."
   ]
  },
  {
   "cell_type": "code",
   "execution_count": 2,
   "id": "b385c4df",
   "metadata": {
    "execution": {
     "iopub.execute_input": "2022-02-12T17:14:24.833971Z",
     "iopub.status.busy": "2022-02-12T17:14:24.833023Z",
     "iopub.status.idle": "2022-02-12T17:14:24.913948Z",
     "shell.execute_reply": "2022-02-12T17:14:24.914695Z",
     "shell.execute_reply.started": "2022-02-12T16:01:39.252026Z"
    },
    "papermill": {
     "duration": 0.110133,
     "end_time": "2022-02-12T17:14:24.914918",
     "exception": false,
     "start_time": "2022-02-12T17:14:24.804785",
     "status": "completed"
    },
    "tags": []
   },
   "outputs": [
    {
     "name": "stdout",
     "output_type": "stream",
     "text": [
      "Setup Complete\n"
     ]
    }
   ],
   "source": [
    "# Set up code checking\n",
    "import os\n",
    "if not os.path.exists(\"../input/cancer_b.csv\"):\n",
    "    os.symlink(\"../input/data-for-datavis/cancer_b.csv\", \"../input/cancer_b.csv\")\n",
    "    os.symlink(\"../input/data-for-datavis/cancer_m.csv\", \"../input/cancer_m.csv\")\n",
    "from learntools.core import binder\n",
    "binder.bind(globals())\n",
    "from learntools.data_viz_to_coder.ex5 import *\n",
    "print(\"Setup Complete\")"
   ]
  },
  {
   "cell_type": "markdown",
   "id": "8dd92378",
   "metadata": {
    "papermill": {
     "duration": 0.025945,
     "end_time": "2022-02-12T17:14:24.967736",
     "exception": false,
     "start_time": "2022-02-12T17:14:24.941791",
     "status": "completed"
    },
    "tags": []
   },
   "source": [
    "## Step 1: Load the data\n",
    "\n",
    "In this step, you will load two data files.\n",
    "- Load the data file corresponding to **benign** tumors into a DataFrame called `cancer_b_data`.  The corresponding filepath is `cancer_b_filepath`.  Use the `\"Id\"` column to label the rows.\n",
    "- Load the data file corresponding to **malignant** tumors into a DataFrame called `cancer_m_data`.  The corresponding filepath is `cancer_m_filepath`.  Use the `\"Id\"` column to label the rows."
   ]
  },
  {
   "cell_type": "code",
   "execution_count": 3,
   "id": "840ad5b8",
   "metadata": {
    "execution": {
     "iopub.execute_input": "2022-02-12T17:14:25.022553Z",
     "iopub.status.busy": "2022-02-12T17:14:25.021839Z",
     "iopub.status.idle": "2022-02-12T17:14:25.044268Z",
     "shell.execute_reply": "2022-02-12T17:14:25.044786Z",
     "shell.execute_reply.started": "2022-02-12T16:02:42.473789Z"
    },
    "papermill": {
     "duration": 0.051122,
     "end_time": "2022-02-12T17:14:25.044962",
     "exception": false,
     "start_time": "2022-02-12T17:14:24.993840",
     "status": "completed"
    },
    "tags": []
   },
   "outputs": [
    {
     "data": {
      "application/javascript": [
       "parent.postMessage({\"jupyterEvent\": \"custom.exercise_interaction\", \"data\": {\"outcomeType\": 1, \"valueTowardsCompletion\": 0.5, \"interactionType\": 1, \"questionType\": 1, \"questionId\": \"1_LoadCancerData\", \"learnToolsVersion\": \"0.3.4\", \"failureMessage\": \"\", \"exceptionClass\": \"\", \"trace\": \"\"}}, \"*\")"
      ],
      "text/plain": [
       "<IPython.core.display.Javascript object>"
      ]
     },
     "metadata": {},
     "output_type": "display_data"
    },
    {
     "data": {
      "text/markdown": [
       "<span style=\"color:#33cc33\">Correct</span>"
      ],
      "text/plain": [
       "Correct"
      ]
     },
     "metadata": {},
     "output_type": "display_data"
    }
   ],
   "source": [
    "# Paths of the files to read\n",
    "cancer_b_filepath = \"../input/cancer_b.csv\"\n",
    "cancer_m_filepath = \"../input/cancer_m.csv\"\n",
    "\n",
    "# Fill in the line below to read the (benign) file into a variable cancer_b_data\n",
    "cancer_b_data = pd.read_csv(cancer_b_filepath, index_col=\"Id\")\n",
    "\n",
    "# Fill in the line below to read the (malignant) file into a variable cancer_m_data\n",
    "cancer_m_data = pd.read_csv(cancer_m_filepath, index_col=\"Id\")\n",
    "\n",
    "# Run the line below with no changes to check that you've loaded the data correctly\n",
    "step_1.check()"
   ]
  },
  {
   "cell_type": "code",
   "execution_count": 4,
   "id": "be2e9836",
   "metadata": {
    "execution": {
     "iopub.execute_input": "2022-02-12T17:14:25.105281Z",
     "iopub.status.busy": "2022-02-12T17:14:25.104616Z",
     "iopub.status.idle": "2022-02-12T17:14:25.107196Z",
     "shell.execute_reply": "2022-02-12T17:14:25.107750Z",
     "shell.execute_reply.started": "2022-02-12T16:03:58.450884Z"
    },
    "papermill": {
     "duration": 0.034282,
     "end_time": "2022-02-12T17:14:25.107918",
     "exception": false,
     "start_time": "2022-02-12T17:14:25.073636",
     "status": "completed"
    },
    "tags": []
   },
   "outputs": [],
   "source": [
    "# Lines below will give you a hint or solution code\n",
    "#step_1.hint()\n",
    "#step_1.solution()"
   ]
  },
  {
   "cell_type": "markdown",
   "id": "a47faf22",
   "metadata": {
    "papermill": {
     "duration": 0.026426,
     "end_time": "2022-02-12T17:14:25.161474",
     "exception": false,
     "start_time": "2022-02-12T17:14:25.135048",
     "status": "completed"
    },
    "tags": []
   },
   "source": [
    "## Step 2: Review the data\n",
    "\n",
    "Use a Python command to print the first 5 rows of the data for benign tumors."
   ]
  },
  {
   "cell_type": "code",
   "execution_count": 5,
   "id": "81c12f61",
   "metadata": {
    "execution": {
     "iopub.execute_input": "2022-02-12T17:14:25.224303Z",
     "iopub.status.busy": "2022-02-12T17:14:25.223650Z",
     "iopub.status.idle": "2022-02-12T17:14:25.252690Z",
     "shell.execute_reply": "2022-02-12T17:14:25.252103Z",
     "shell.execute_reply.started": "2022-02-12T16:06:26.227738Z"
    },
    "papermill": {
     "duration": 0.064624,
     "end_time": "2022-02-12T17:14:25.252836",
     "exception": false,
     "start_time": "2022-02-12T17:14:25.188212",
     "status": "completed"
    },
    "tags": []
   },
   "outputs": [
    {
     "data": {
      "text/html": [
       "<div>\n",
       "<style scoped>\n",
       "    .dataframe tbody tr th:only-of-type {\n",
       "        vertical-align: middle;\n",
       "    }\n",
       "\n",
       "    .dataframe tbody tr th {\n",
       "        vertical-align: top;\n",
       "    }\n",
       "\n",
       "    .dataframe thead th {\n",
       "        text-align: right;\n",
       "    }\n",
       "</style>\n",
       "<table border=\"1\" class=\"dataframe\">\n",
       "  <thead>\n",
       "    <tr style=\"text-align: right;\">\n",
       "      <th></th>\n",
       "      <th>Diagnosis</th>\n",
       "      <th>Radius (mean)</th>\n",
       "      <th>Texture (mean)</th>\n",
       "      <th>Perimeter (mean)</th>\n",
       "      <th>Area (mean)</th>\n",
       "      <th>Smoothness (mean)</th>\n",
       "      <th>Compactness (mean)</th>\n",
       "      <th>Concavity (mean)</th>\n",
       "      <th>Concave points (mean)</th>\n",
       "      <th>Symmetry (mean)</th>\n",
       "      <th>...</th>\n",
       "      <th>Radius (worst)</th>\n",
       "      <th>Texture (worst)</th>\n",
       "      <th>Perimeter (worst)</th>\n",
       "      <th>Area (worst)</th>\n",
       "      <th>Smoothness (worst)</th>\n",
       "      <th>Compactness (worst)</th>\n",
       "      <th>Concavity (worst)</th>\n",
       "      <th>Concave points (worst)</th>\n",
       "      <th>Symmetry (worst)</th>\n",
       "      <th>Fractal dimension (worst)</th>\n",
       "    </tr>\n",
       "    <tr>\n",
       "      <th>Id</th>\n",
       "      <th></th>\n",
       "      <th></th>\n",
       "      <th></th>\n",
       "      <th></th>\n",
       "      <th></th>\n",
       "      <th></th>\n",
       "      <th></th>\n",
       "      <th></th>\n",
       "      <th></th>\n",
       "      <th></th>\n",
       "      <th></th>\n",
       "      <th></th>\n",
       "      <th></th>\n",
       "      <th></th>\n",
       "      <th></th>\n",
       "      <th></th>\n",
       "      <th></th>\n",
       "      <th></th>\n",
       "      <th></th>\n",
       "      <th></th>\n",
       "      <th></th>\n",
       "    </tr>\n",
       "  </thead>\n",
       "  <tbody>\n",
       "    <tr>\n",
       "      <th>911201</th>\n",
       "      <td>B</td>\n",
       "      <td>14.53</td>\n",
       "      <td>13.98</td>\n",
       "      <td>93.86</td>\n",
       "      <td>644.2</td>\n",
       "      <td>0.10990</td>\n",
       "      <td>0.09242</td>\n",
       "      <td>0.06895</td>\n",
       "      <td>0.06495</td>\n",
       "      <td>0.1650</td>\n",
       "      <td>...</td>\n",
       "      <td>15.80</td>\n",
       "      <td>16.93</td>\n",
       "      <td>103.10</td>\n",
       "      <td>749.9</td>\n",
       "      <td>0.13470</td>\n",
       "      <td>0.1478</td>\n",
       "      <td>0.13730</td>\n",
       "      <td>0.10690</td>\n",
       "      <td>0.2606</td>\n",
       "      <td>0.07810</td>\n",
       "    </tr>\n",
       "    <tr>\n",
       "      <th>898677</th>\n",
       "      <td>B</td>\n",
       "      <td>10.26</td>\n",
       "      <td>14.71</td>\n",
       "      <td>66.20</td>\n",
       "      <td>321.6</td>\n",
       "      <td>0.09882</td>\n",
       "      <td>0.09159</td>\n",
       "      <td>0.03581</td>\n",
       "      <td>0.02037</td>\n",
       "      <td>0.1633</td>\n",
       "      <td>...</td>\n",
       "      <td>10.88</td>\n",
       "      <td>19.48</td>\n",
       "      <td>70.89</td>\n",
       "      <td>357.1</td>\n",
       "      <td>0.13600</td>\n",
       "      <td>0.1636</td>\n",
       "      <td>0.07162</td>\n",
       "      <td>0.04074</td>\n",
       "      <td>0.2434</td>\n",
       "      <td>0.08488</td>\n",
       "    </tr>\n",
       "    <tr>\n",
       "      <th>912519</th>\n",
       "      <td>B</td>\n",
       "      <td>13.47</td>\n",
       "      <td>14.06</td>\n",
       "      <td>87.32</td>\n",
       "      <td>546.3</td>\n",
       "      <td>0.10710</td>\n",
       "      <td>0.11550</td>\n",
       "      <td>0.05786</td>\n",
       "      <td>0.05266</td>\n",
       "      <td>0.1779</td>\n",
       "      <td>...</td>\n",
       "      <td>14.83</td>\n",
       "      <td>18.32</td>\n",
       "      <td>94.94</td>\n",
       "      <td>660.2</td>\n",
       "      <td>0.13930</td>\n",
       "      <td>0.2499</td>\n",
       "      <td>0.18480</td>\n",
       "      <td>0.13350</td>\n",
       "      <td>0.3227</td>\n",
       "      <td>0.09326</td>\n",
       "    </tr>\n",
       "    <tr>\n",
       "      <th>8811779</th>\n",
       "      <td>B</td>\n",
       "      <td>10.20</td>\n",
       "      <td>17.48</td>\n",
       "      <td>65.05</td>\n",
       "      <td>321.2</td>\n",
       "      <td>0.08054</td>\n",
       "      <td>0.05907</td>\n",
       "      <td>0.05774</td>\n",
       "      <td>0.01071</td>\n",
       "      <td>0.1964</td>\n",
       "      <td>...</td>\n",
       "      <td>11.48</td>\n",
       "      <td>24.47</td>\n",
       "      <td>75.40</td>\n",
       "      <td>403.7</td>\n",
       "      <td>0.09527</td>\n",
       "      <td>0.1397</td>\n",
       "      <td>0.19250</td>\n",
       "      <td>0.03571</td>\n",
       "      <td>0.2868</td>\n",
       "      <td>0.07809</td>\n",
       "    </tr>\n",
       "    <tr>\n",
       "      <th>86973701</th>\n",
       "      <td>B</td>\n",
       "      <td>14.95</td>\n",
       "      <td>18.77</td>\n",
       "      <td>97.84</td>\n",
       "      <td>689.5</td>\n",
       "      <td>0.08138</td>\n",
       "      <td>0.11670</td>\n",
       "      <td>0.09050</td>\n",
       "      <td>0.03562</td>\n",
       "      <td>0.1744</td>\n",
       "      <td>...</td>\n",
       "      <td>16.25</td>\n",
       "      <td>25.47</td>\n",
       "      <td>107.10</td>\n",
       "      <td>809.7</td>\n",
       "      <td>0.09970</td>\n",
       "      <td>0.2521</td>\n",
       "      <td>0.25000</td>\n",
       "      <td>0.08405</td>\n",
       "      <td>0.2852</td>\n",
       "      <td>0.09218</td>\n",
       "    </tr>\n",
       "  </tbody>\n",
       "</table>\n",
       "<p>5 rows × 31 columns</p>\n",
       "</div>"
      ],
      "text/plain": [
       "         Diagnosis  Radius (mean)  Texture (mean)  Perimeter (mean)  \\\n",
       "Id                                                                    \n",
       "911201           B          14.53           13.98             93.86   \n",
       "898677           B          10.26           14.71             66.20   \n",
       "912519           B          13.47           14.06             87.32   \n",
       "8811779          B          10.20           17.48             65.05   \n",
       "86973701         B          14.95           18.77             97.84   \n",
       "\n",
       "          Area (mean)  Smoothness (mean)  Compactness (mean)  \\\n",
       "Id                                                             \n",
       "911201          644.2            0.10990             0.09242   \n",
       "898677          321.6            0.09882             0.09159   \n",
       "912519          546.3            0.10710             0.11550   \n",
       "8811779         321.2            0.08054             0.05907   \n",
       "86973701        689.5            0.08138             0.11670   \n",
       "\n",
       "          Concavity (mean)  Concave points (mean)  Symmetry (mean)  ...  \\\n",
       "Id                                                                  ...   \n",
       "911201             0.06895                0.06495           0.1650  ...   \n",
       "898677             0.03581                0.02037           0.1633  ...   \n",
       "912519             0.05786                0.05266           0.1779  ...   \n",
       "8811779            0.05774                0.01071           0.1964  ...   \n",
       "86973701           0.09050                0.03562           0.1744  ...   \n",
       "\n",
       "          Radius (worst)  Texture (worst)  Perimeter (worst)  Area (worst)  \\\n",
       "Id                                                                           \n",
       "911201             15.80            16.93             103.10         749.9   \n",
       "898677             10.88            19.48              70.89         357.1   \n",
       "912519             14.83            18.32              94.94         660.2   \n",
       "8811779            11.48            24.47              75.40         403.7   \n",
       "86973701           16.25            25.47             107.10         809.7   \n",
       "\n",
       "          Smoothness (worst)  Compactness (worst)  Concavity (worst)  \\\n",
       "Id                                                                     \n",
       "911201               0.13470               0.1478            0.13730   \n",
       "898677               0.13600               0.1636            0.07162   \n",
       "912519               0.13930               0.2499            0.18480   \n",
       "8811779              0.09527               0.1397            0.19250   \n",
       "86973701             0.09970               0.2521            0.25000   \n",
       "\n",
       "          Concave points (worst)  Symmetry (worst)  Fractal dimension (worst)  \n",
       "Id                                                                             \n",
       "911201                   0.10690            0.2606                    0.07810  \n",
       "898677                   0.04074            0.2434                    0.08488  \n",
       "912519                   0.13350            0.3227                    0.09326  \n",
       "8811779                  0.03571            0.2868                    0.07809  \n",
       "86973701                 0.08405            0.2852                    0.09218  \n",
       "\n",
       "[5 rows x 31 columns]"
      ]
     },
     "execution_count": 5,
     "metadata": {},
     "output_type": "execute_result"
    }
   ],
   "source": [
    "# Print the first five rows of the (benign) data\n",
    "____ # Your code here\n",
    "cancer_b_data.sample(5)"
   ]
  },
  {
   "cell_type": "markdown",
   "id": "6e57d25c",
   "metadata": {
    "papermill": {
     "duration": 0.027189,
     "end_time": "2022-02-12T17:14:25.308025",
     "exception": false,
     "start_time": "2022-02-12T17:14:25.280836",
     "status": "completed"
    },
    "tags": []
   },
   "source": [
    "Use a Python command to print the first 5 rows of the data for malignant tumors."
   ]
  },
  {
   "cell_type": "code",
   "execution_count": 6,
   "id": "3d090f5c",
   "metadata": {
    "execution": {
     "iopub.execute_input": "2022-02-12T17:14:25.371660Z",
     "iopub.status.busy": "2022-02-12T17:14:25.370634Z",
     "iopub.status.idle": "2022-02-12T17:14:25.397722Z",
     "shell.execute_reply": "2022-02-12T17:14:25.397218Z",
     "shell.execute_reply.started": "2022-02-12T16:07:11.373558Z"
    },
    "papermill": {
     "duration": 0.062199,
     "end_time": "2022-02-12T17:14:25.397862",
     "exception": false,
     "start_time": "2022-02-12T17:14:25.335663",
     "status": "completed"
    },
    "tags": []
   },
   "outputs": [
    {
     "data": {
      "text/html": [
       "<div>\n",
       "<style scoped>\n",
       "    .dataframe tbody tr th:only-of-type {\n",
       "        vertical-align: middle;\n",
       "    }\n",
       "\n",
       "    .dataframe tbody tr th {\n",
       "        vertical-align: top;\n",
       "    }\n",
       "\n",
       "    .dataframe thead th {\n",
       "        text-align: right;\n",
       "    }\n",
       "</style>\n",
       "<table border=\"1\" class=\"dataframe\">\n",
       "  <thead>\n",
       "    <tr style=\"text-align: right;\">\n",
       "      <th></th>\n",
       "      <th>Diagnosis</th>\n",
       "      <th>Radius (mean)</th>\n",
       "      <th>Texture (mean)</th>\n",
       "      <th>Perimeter (mean)</th>\n",
       "      <th>Area (mean)</th>\n",
       "      <th>Smoothness (mean)</th>\n",
       "      <th>Compactness (mean)</th>\n",
       "      <th>Concavity (mean)</th>\n",
       "      <th>Concave points (mean)</th>\n",
       "      <th>Symmetry (mean)</th>\n",
       "      <th>...</th>\n",
       "      <th>Radius (worst)</th>\n",
       "      <th>Texture (worst)</th>\n",
       "      <th>Perimeter (worst)</th>\n",
       "      <th>Area (worst)</th>\n",
       "      <th>Smoothness (worst)</th>\n",
       "      <th>Compactness (worst)</th>\n",
       "      <th>Concavity (worst)</th>\n",
       "      <th>Concave points (worst)</th>\n",
       "      <th>Symmetry (worst)</th>\n",
       "      <th>Fractal dimension (worst)</th>\n",
       "    </tr>\n",
       "    <tr>\n",
       "      <th>Id</th>\n",
       "      <th></th>\n",
       "      <th></th>\n",
       "      <th></th>\n",
       "      <th></th>\n",
       "      <th></th>\n",
       "      <th></th>\n",
       "      <th></th>\n",
       "      <th></th>\n",
       "      <th></th>\n",
       "      <th></th>\n",
       "      <th></th>\n",
       "      <th></th>\n",
       "      <th></th>\n",
       "      <th></th>\n",
       "      <th></th>\n",
       "      <th></th>\n",
       "      <th></th>\n",
       "      <th></th>\n",
       "      <th></th>\n",
       "      <th></th>\n",
       "      <th></th>\n",
       "    </tr>\n",
       "  </thead>\n",
       "  <tbody>\n",
       "    <tr>\n",
       "      <th>90524101</th>\n",
       "      <td>M</td>\n",
       "      <td>17.99</td>\n",
       "      <td>20.66</td>\n",
       "      <td>117.80</td>\n",
       "      <td>991.7</td>\n",
       "      <td>0.10360</td>\n",
       "      <td>0.13040</td>\n",
       "      <td>0.1201</td>\n",
       "      <td>0.08824</td>\n",
       "      <td>0.1992</td>\n",
       "      <td>...</td>\n",
       "      <td>21.08</td>\n",
       "      <td>25.41</td>\n",
       "      <td>138.10</td>\n",
       "      <td>1349.0</td>\n",
       "      <td>0.1482</td>\n",
       "      <td>0.3735</td>\n",
       "      <td>0.3301</td>\n",
       "      <td>0.1974</td>\n",
       "      <td>0.3060</td>\n",
       "      <td>0.08503</td>\n",
       "    </tr>\n",
       "    <tr>\n",
       "      <th>915460</th>\n",
       "      <td>M</td>\n",
       "      <td>15.46</td>\n",
       "      <td>23.95</td>\n",
       "      <td>103.80</td>\n",
       "      <td>731.3</td>\n",
       "      <td>0.11830</td>\n",
       "      <td>0.18700</td>\n",
       "      <td>0.2030</td>\n",
       "      <td>0.08520</td>\n",
       "      <td>0.1807</td>\n",
       "      <td>...</td>\n",
       "      <td>17.11</td>\n",
       "      <td>36.33</td>\n",
       "      <td>117.70</td>\n",
       "      <td>909.4</td>\n",
       "      <td>0.1732</td>\n",
       "      <td>0.4967</td>\n",
       "      <td>0.5911</td>\n",
       "      <td>0.2163</td>\n",
       "      <td>0.3013</td>\n",
       "      <td>0.10670</td>\n",
       "    </tr>\n",
       "    <tr>\n",
       "      <th>84348301</th>\n",
       "      <td>M</td>\n",
       "      <td>11.42</td>\n",
       "      <td>20.38</td>\n",
       "      <td>77.58</td>\n",
       "      <td>386.1</td>\n",
       "      <td>0.14250</td>\n",
       "      <td>0.28390</td>\n",
       "      <td>0.2414</td>\n",
       "      <td>0.10520</td>\n",
       "      <td>0.2597</td>\n",
       "      <td>...</td>\n",
       "      <td>14.91</td>\n",
       "      <td>26.50</td>\n",
       "      <td>98.87</td>\n",
       "      <td>567.7</td>\n",
       "      <td>0.2098</td>\n",
       "      <td>0.8663</td>\n",
       "      <td>0.6869</td>\n",
       "      <td>0.2575</td>\n",
       "      <td>0.6638</td>\n",
       "      <td>0.17300</td>\n",
       "    </tr>\n",
       "    <tr>\n",
       "      <th>842517</th>\n",
       "      <td>M</td>\n",
       "      <td>20.57</td>\n",
       "      <td>17.77</td>\n",
       "      <td>132.90</td>\n",
       "      <td>1326.0</td>\n",
       "      <td>0.08474</td>\n",
       "      <td>0.07864</td>\n",
       "      <td>0.0869</td>\n",
       "      <td>0.07017</td>\n",
       "      <td>0.1812</td>\n",
       "      <td>...</td>\n",
       "      <td>24.99</td>\n",
       "      <td>23.41</td>\n",
       "      <td>158.80</td>\n",
       "      <td>1956.0</td>\n",
       "      <td>0.1238</td>\n",
       "      <td>0.1866</td>\n",
       "      <td>0.2416</td>\n",
       "      <td>0.1860</td>\n",
       "      <td>0.2750</td>\n",
       "      <td>0.08902</td>\n",
       "    </tr>\n",
       "    <tr>\n",
       "      <th>91762702</th>\n",
       "      <td>M</td>\n",
       "      <td>24.63</td>\n",
       "      <td>21.60</td>\n",
       "      <td>165.50</td>\n",
       "      <td>1841.0</td>\n",
       "      <td>0.10300</td>\n",
       "      <td>0.21060</td>\n",
       "      <td>0.2310</td>\n",
       "      <td>0.14710</td>\n",
       "      <td>0.1991</td>\n",
       "      <td>...</td>\n",
       "      <td>29.92</td>\n",
       "      <td>26.93</td>\n",
       "      <td>205.70</td>\n",
       "      <td>2642.0</td>\n",
       "      <td>0.1342</td>\n",
       "      <td>0.4188</td>\n",
       "      <td>0.4658</td>\n",
       "      <td>0.2475</td>\n",
       "      <td>0.3157</td>\n",
       "      <td>0.09671</td>\n",
       "    </tr>\n",
       "  </tbody>\n",
       "</table>\n",
       "<p>5 rows × 31 columns</p>\n",
       "</div>"
      ],
      "text/plain": [
       "         Diagnosis  Radius (mean)  Texture (mean)  Perimeter (mean)  \\\n",
       "Id                                                                    \n",
       "90524101         M          17.99           20.66            117.80   \n",
       "915460           M          15.46           23.95            103.80   \n",
       "84348301         M          11.42           20.38             77.58   \n",
       "842517           M          20.57           17.77            132.90   \n",
       "91762702         M          24.63           21.60            165.50   \n",
       "\n",
       "          Area (mean)  Smoothness (mean)  Compactness (mean)  \\\n",
       "Id                                                             \n",
       "90524101        991.7            0.10360             0.13040   \n",
       "915460          731.3            0.11830             0.18700   \n",
       "84348301        386.1            0.14250             0.28390   \n",
       "842517         1326.0            0.08474             0.07864   \n",
       "91762702       1841.0            0.10300             0.21060   \n",
       "\n",
       "          Concavity (mean)  Concave points (mean)  Symmetry (mean)  ...  \\\n",
       "Id                                                                  ...   \n",
       "90524101            0.1201                0.08824           0.1992  ...   \n",
       "915460              0.2030                0.08520           0.1807  ...   \n",
       "84348301            0.2414                0.10520           0.2597  ...   \n",
       "842517              0.0869                0.07017           0.1812  ...   \n",
       "91762702            0.2310                0.14710           0.1991  ...   \n",
       "\n",
       "          Radius (worst)  Texture (worst)  Perimeter (worst)  Area (worst)  \\\n",
       "Id                                                                           \n",
       "90524101           21.08            25.41             138.10        1349.0   \n",
       "915460             17.11            36.33             117.70         909.4   \n",
       "84348301           14.91            26.50              98.87         567.7   \n",
       "842517             24.99            23.41             158.80        1956.0   \n",
       "91762702           29.92            26.93             205.70        2642.0   \n",
       "\n",
       "          Smoothness (worst)  Compactness (worst)  Concavity (worst)  \\\n",
       "Id                                                                     \n",
       "90524101              0.1482               0.3735             0.3301   \n",
       "915460                0.1732               0.4967             0.5911   \n",
       "84348301              0.2098               0.8663             0.6869   \n",
       "842517                0.1238               0.1866             0.2416   \n",
       "91762702              0.1342               0.4188             0.4658   \n",
       "\n",
       "          Concave points (worst)  Symmetry (worst)  Fractal dimension (worst)  \n",
       "Id                                                                             \n",
       "90524101                  0.1974            0.3060                    0.08503  \n",
       "915460                    0.2163            0.3013                    0.10670  \n",
       "84348301                  0.2575            0.6638                    0.17300  \n",
       "842517                    0.1860            0.2750                    0.08902  \n",
       "91762702                  0.2475            0.3157                    0.09671  \n",
       "\n",
       "[5 rows x 31 columns]"
      ]
     },
     "execution_count": 6,
     "metadata": {},
     "output_type": "execute_result"
    }
   ],
   "source": [
    "# Print the first five rows of the (malignant) data\n",
    "____ # Your code here\n",
    "cancer_m_data.sample(5)"
   ]
  },
  {
   "cell_type": "markdown",
   "id": "d97aa163",
   "metadata": {
    "papermill": {
     "duration": 0.028166,
     "end_time": "2022-02-12T17:14:25.454941",
     "exception": false,
     "start_time": "2022-02-12T17:14:25.426775",
     "status": "completed"
    },
    "tags": []
   },
   "source": [
    "In the datasets, each row corresponds to a different image.  Each dataset has 31 different columns, corresponding to:\n",
    "- 1 column (`'Diagnosis'`) that classifies tumors as either benign (which appears in the dataset as **`B`**) or malignant (__`M`__), and\n",
    "- 30 columns containing different measurements collected from the images.\n",
    "\n",
    "Use the first 5 rows of the data (for benign and malignant tumors) to answer the questions below."
   ]
  },
  {
   "cell_type": "code",
   "execution_count": 7,
   "id": "052b56b0",
   "metadata": {
    "execution": {
     "iopub.execute_input": "2022-02-12T17:14:25.516214Z",
     "iopub.status.busy": "2022-02-12T17:14:25.513875Z",
     "iopub.status.idle": "2022-02-12T17:14:25.521275Z",
     "shell.execute_reply": "2022-02-12T17:14:25.520666Z",
     "shell.execute_reply.started": "2022-02-12T16:48:36.555711Z"
    },
    "papermill": {
     "duration": 0.03832,
     "end_time": "2022-02-12T17:14:25.521427",
     "exception": false,
     "start_time": "2022-02-12T17:14:25.483107",
     "status": "completed"
    },
    "tags": []
   },
   "outputs": [
    {
     "data": {
      "application/javascript": [
       "parent.postMessage({\"jupyterEvent\": \"custom.exercise_interaction\", \"data\": {\"outcomeType\": 1, \"valueTowardsCompletion\": 0.5, \"interactionType\": 1, \"questionType\": 1, \"questionId\": \"2_ReviewData\", \"learnToolsVersion\": \"0.3.4\", \"failureMessage\": \"\", \"exceptionClass\": \"\", \"trace\": \"\"}}, \"*\")"
      ],
      "text/plain": [
       "<IPython.core.display.Javascript object>"
      ]
     },
     "metadata": {},
     "output_type": "display_data"
    },
    {
     "data": {
      "text/markdown": [
       "<span style=\"color:#33cc33\">Correct</span>"
      ],
      "text/plain": [
       "Correct"
      ]
     },
     "metadata": {},
     "output_type": "display_data"
    }
   ],
   "source": [
    "# Fill in the line below: In the first five rows of the data for benign tumors, what is the\n",
    "# largest value for 'Perimeter (mean)'?\n",
    "max_perim = 87.46\n",
    "\n",
    "# Fill in the line below: What is the value for 'Radius (mean)' for the tumor with Id 842517?\n",
    "mean_radius = 20.57\n",
    "\n",
    "# Check your answers\n",
    "step_2.check()"
   ]
  },
  {
   "cell_type": "code",
   "execution_count": 8,
   "id": "e16c391b",
   "metadata": {
    "execution": {
     "iopub.execute_input": "2022-02-12T17:14:25.586173Z",
     "iopub.status.busy": "2022-02-12T17:14:25.585481Z",
     "iopub.status.idle": "2022-02-12T17:14:25.590117Z",
     "shell.execute_reply": "2022-02-12T17:14:25.590600Z",
     "shell.execute_reply.started": "2022-02-12T16:41:09.323516Z"
    },
    "papermill": {
     "duration": 0.039343,
     "end_time": "2022-02-12T17:14:25.590765",
     "exception": false,
     "start_time": "2022-02-12T17:14:25.551422",
     "status": "completed"
    },
    "tags": []
   },
   "outputs": [
    {
     "data": {
      "application/javascript": [
       "parent.postMessage({\"jupyterEvent\": \"custom.exercise_interaction\", \"data\": {\"interactionType\": 3, \"questionType\": 1, \"questionId\": \"2_ReviewData\", \"learnToolsVersion\": \"0.3.4\", \"valueTowardsCompletion\": 0.0, \"failureMessage\": \"\", \"exceptionClass\": \"\", \"trace\": \"\", \"outcomeType\": 4}}, \"*\")"
      ],
      "text/plain": [
       "<IPython.core.display.Javascript object>"
      ]
     },
     "metadata": {},
     "output_type": "display_data"
    },
    {
     "data": {
      "text/markdown": [
       "<span style=\"color:#33cc99\">Solution:</span> \n",
       "```python\n",
       "# Print the first five rows of the (benign) data\n",
       "cancer_b_data.head()\n",
       "# Print the first five rows of the (malignant) data\n",
       "cancer_m_data.head()\n",
       "# In the first five rows of the data for benign tumors, what is the\n",
       "# largest value for 'Perimeter (mean)'?\n",
       "max_perim = 87.46\n",
       "# What is the value for 'Radius (mean)' for the tumor with Id 842517?\n",
       "mean_radius = 20.57\n",
       "\n",
       "```"
      ],
      "text/plain": [
       "Solution: \n",
       "```python\n",
       "# Print the first five rows of the (benign) data\n",
       "cancer_b_data.head()\n",
       "# Print the first five rows of the (malignant) data\n",
       "cancer_m_data.head()\n",
       "# In the first five rows of the data for benign tumors, what is the\n",
       "# largest value for 'Perimeter (mean)'?\n",
       "max_perim = 87.46\n",
       "# What is the value for 'Radius (mean)' for the tumor with Id 842517?\n",
       "mean_radius = 20.57\n",
       "\n",
       "```"
      ]
     },
     "metadata": {},
     "output_type": "display_data"
    }
   ],
   "source": [
    "# Lines below will give you a hint or solution code\n",
    "#step_2.hint()\n",
    "step_2.solution()"
   ]
  },
  {
   "cell_type": "markdown",
   "id": "1d69558c",
   "metadata": {
    "papermill": {
     "duration": 0.030545,
     "end_time": "2022-02-12T17:14:25.652156",
     "exception": false,
     "start_time": "2022-02-12T17:14:25.621611",
     "status": "completed"
    },
    "tags": []
   },
   "source": [
    "## Step 3: Investigating differences"
   ]
  },
  {
   "cell_type": "markdown",
   "id": "21bf293c",
   "metadata": {
    "papermill": {
     "duration": 0.030374,
     "end_time": "2022-02-12T17:14:25.713370",
     "exception": false,
     "start_time": "2022-02-12T17:14:25.682996",
     "status": "completed"
    },
    "tags": []
   },
   "source": [
    "#### Part A\n",
    "\n",
    "Use the code cell below to create two histograms that show the distribution in values for `'Area (mean)'` for both benign and malignant tumors.  (_To permit easy comparison, create a single figure containing both histograms in the code cell below._)"
   ]
  },
  {
   "cell_type": "code",
   "execution_count": 9,
   "id": "afc49c44",
   "metadata": {
    "execution": {
     "iopub.execute_input": "2022-02-12T17:14:25.782954Z",
     "iopub.status.busy": "2022-02-12T17:14:25.778265Z",
     "iopub.status.idle": "2022-02-12T17:14:26.104541Z",
     "shell.execute_reply": "2022-02-12T17:14:26.103529Z",
     "shell.execute_reply.started": "2022-02-12T16:54:14.196844Z"
    },
    "papermill": {
     "duration": 0.360513,
     "end_time": "2022-02-12T17:14:26.104690",
     "exception": false,
     "start_time": "2022-02-12T17:14:25.744177",
     "status": "completed"
    },
    "tags": []
   },
   "outputs": [
    {
     "data": {
      "application/javascript": [
       "parent.postMessage({\"jupyterEvent\": \"custom.exercise_interaction\", \"data\": {\"outcomeType\": 1, \"valueTowardsCompletion\": 0.5, \"interactionType\": 1, \"questionType\": 2, \"questionId\": \"3.1_PlotHist\", \"learnToolsVersion\": \"0.3.4\", \"failureMessage\": \"\", \"exceptionClass\": \"\", \"trace\": \"\"}}, \"*\")"
      ],
      "text/plain": [
       "<IPython.core.display.Javascript object>"
      ]
     },
     "metadata": {},
     "output_type": "display_data"
    },
    {
     "data": {
      "text/markdown": [
       "<span style=\"color:#33cc33\">Correct</span>"
      ],
      "text/plain": [
       "Correct"
      ]
     },
     "metadata": {},
     "output_type": "display_data"
    },
    {
     "data": {
      "image/png": "[encoded data removed]",
      "text/plain": [
       "<Figure size 432x288 with 1 Axes>"
      ]
     },
     "metadata": {
      "needs_background": "light"
     },
     "output_type": "display_data"
    }
   ],
   "source": [
    "# Histograms for benign and maligant tumors\n",
    "____ # Your code here (benign tumors)\n",
    "____ # Your code here (malignant tumors)\n",
    "sns.distplot(a=cancer_b_data['Area (mean)'], label=\"Benign\", kde=False)\n",
    "sns.distplot(a=cancer_m_data['Area (mean)'], label=\"Malignant\", kde=False)\n",
    "plt.legend()\n",
    "# Check your answer\n",
    "step_3.a.check()"
   ]
  },
  {
   "cell_type": "code",
   "execution_count": 10,
   "id": "4f619254",
   "metadata": {
    "execution": {
     "iopub.execute_input": "2022-02-12T17:14:26.175787Z",
     "iopub.status.busy": "2022-02-12T17:14:26.174861Z",
     "iopub.status.idle": "2022-02-12T17:14:26.177595Z",
     "shell.execute_reply": "2022-02-12T17:14:26.176953Z",
     "shell.execute_reply.started": "2022-02-12T16:55:18.361190Z"
    },
    "papermill": {
     "duration": 0.039771,
     "end_time": "2022-02-12T17:14:26.177728",
     "exception": false,
     "start_time": "2022-02-12T17:14:26.137957",
     "status": "completed"
    },
    "tags": []
   },
   "outputs": [],
   "source": [
    "# Lines below will give you a hint or solution code\n",
    "#step_3.a.hint()\n",
    "#step_3.a.solution_plot()"
   ]
  },
  {
   "cell_type": "markdown",
   "id": "e0dbfeeb",
   "metadata": {
    "papermill": {
     "duration": 0.032589,
     "end_time": "2022-02-12T17:14:26.242999",
     "exception": false,
     "start_time": "2022-02-12T17:14:26.210410",
     "status": "completed"
    },
    "tags": []
   },
   "source": [
    "#### Part B\n",
    "\n",
    "A researcher approaches you for help with identifying how the `'Area (mean)'` column can be used to understand the difference between benign and malignant tumors.  Based on the histograms above, \n",
    "- Do malignant tumors have higher or lower values for `'Area (mean)'` (relative to benign tumors), on average?\n",
    "- Which tumor type seems to have a larger range of potential values?"
   ]
  },
  {
   "cell_type": "code",
   "execution_count": 11,
   "id": "939a21b2",
   "metadata": {
    "execution": {
     "iopub.execute_input": "2022-02-12T17:14:26.313756Z",
     "iopub.status.busy": "2022-02-12T17:14:26.312943Z",
     "iopub.status.idle": "2022-02-12T17:14:26.315580Z",
     "shell.execute_reply": "2022-02-12T17:14:26.315043Z"
    },
    "papermill": {
     "duration": 0.039555,
     "end_time": "2022-02-12T17:14:26.315717",
     "exception": false,
     "start_time": "2022-02-12T17:14:26.276162",
     "status": "completed"
    },
    "tags": []
   },
   "outputs": [],
   "source": [
    "#step_3.b.hint()"
   ]
  },
  {
   "cell_type": "code",
   "execution_count": 12,
   "id": "d5591890",
   "metadata": {
    "execution": {
     "iopub.execute_input": "2022-02-12T17:14:26.385256Z",
     "iopub.status.busy": "2022-02-12T17:14:26.384650Z",
     "iopub.status.idle": "2022-02-12T17:14:26.390150Z",
     "shell.execute_reply": "2022-02-12T17:14:26.390750Z",
     "shell.execute_reply.started": "2022-02-12T17:03:45.721511Z"
    },
    "papermill": {
     "duration": 0.042199,
     "end_time": "2022-02-12T17:14:26.390916",
     "exception": false,
     "start_time": "2022-02-12T17:14:26.348717",
     "status": "completed"
    },
    "tags": []
   },
   "outputs": [
    {
     "data": {
      "application/javascript": [
       "parent.postMessage({\"jupyterEvent\": \"custom.exercise_interaction\", \"data\": {\"interactionType\": 3, \"questionType\": 4, \"questionId\": \"3.2_ThinkHist\", \"learnToolsVersion\": \"0.3.4\", \"valueTowardsCompletion\": 0.0, \"failureMessage\": \"\", \"exceptionClass\": \"\", \"trace\": \"\", \"outcomeType\": 4}}, \"*\")"
      ],
      "text/plain": [
       "<IPython.core.display.Javascript object>"
      ]
     },
     "metadata": {},
     "output_type": "display_data"
    },
    {
     "data": {
      "text/markdown": [
       "<span style=\"color:#33cc99\">Solution:</span> Malignant tumors have higher values for `'Area (mean)'`, on average. Malignant tumors have a larger range of potential values."
      ],
      "text/plain": [
       "Solution: Malignant tumors have higher values for `'Area (mean)'`, on average. Malignant tumors have a larger range of potential values."
      ]
     },
     "metadata": {},
     "output_type": "display_data"
    }
   ],
   "source": [
    "# Check your answer (Run this code cell to receive credit!)\n",
    "step_3.b.solution()"
   ]
  },
  {
   "cell_type": "markdown",
   "id": "8459936a",
   "metadata": {
    "papermill": {
     "duration": 0.033864,
     "end_time": "2022-02-12T17:14:26.458890",
     "exception": false,
     "start_time": "2022-02-12T17:14:26.425026",
     "status": "completed"
    },
    "tags": []
   },
   "source": [
    "## Step 4: A very useful column\n",
    "\n",
    "#### Part A\n",
    "\n",
    "Use the code cell below to create two KDE plots that show the distribution in values for `'Radius (worst)'` for both benign and malignant tumors.  (_To permit easy comparison, create a single figure containing both KDE plots in the code cell below._)"
   ]
  },
  {
   "cell_type": "code",
   "execution_count": 13,
   "id": "8ac8efea",
   "metadata": {
    "execution": {
     "iopub.execute_input": "2022-02-12T17:14:26.551032Z",
     "iopub.status.busy": "2022-02-12T17:14:26.550323Z",
     "iopub.status.idle": "2022-02-12T17:14:26.787250Z",
     "shell.execute_reply": "2022-02-12T17:14:26.787753Z",
     "shell.execute_reply.started": "2022-02-12T17:12:03.547582Z"
    },
    "papermill": {
     "duration": 0.295041,
     "end_time": "2022-02-12T17:14:26.787915",
     "exception": false,
     "start_time": "2022-02-12T17:14:26.492874",
     "status": "completed"
    },
    "tags": []
   },
   "outputs": [
    {
     "data": {
      "application/javascript": [
       "parent.postMessage({\"jupyterEvent\": \"custom.exercise_interaction\", \"data\": {\"outcomeType\": 1, \"valueTowardsCompletion\": 0.5, \"interactionType\": 1, \"questionType\": 2, \"questionId\": \"4.1_PlotThreshold\", \"learnToolsVersion\": \"0.3.4\", \"failureMessage\": \"\", \"exceptionClass\": \"\", \"trace\": \"\"}}, \"*\")"
      ],
      "text/plain": [
       "<IPython.core.display.Javascript object>"
      ]
     },
     "metadata": {},
     "output_type": "display_data"
    },
    {
     "data": {
      "text/markdown": [
       "<span style=\"color:#33cc33\">Correct</span>"
      ],
      "text/plain": [
       "Correct"
      ]
     },
     "metadata": {},
     "output_type": "display_data"
    },
    {
     "data": {
      "image/png": "[encoded data removed]",
      "text/plain": [
       "<Figure size 432x288 with 1 Axes>"
      ]
     },
     "metadata": {
      "needs_background": "light"
     },
     "output_type": "display_data"
    }
   ],
   "source": [
    "# KDE plots for benign and malignant tumors\n",
    "____ # Your code here (benign tumors)\n",
    "____ # Your code here (malignant tumors)\n",
    "sns.kdeplot(data=cancer_b_data['Radius (worst)'], shade=True, label=\"Benign\")\n",
    "sns.kdeplot(data=cancer_m_data['Radius (worst)'], shade=True, label=\"Malignant\")\n",
    "# Check your answer\n",
    "step_4.a.check()"
   ]
  },
  {
   "cell_type": "code",
   "execution_count": 14,
   "id": "f1c19634",
   "metadata": {
    "execution": {
     "iopub.execute_input": "2022-02-12T17:14:26.865437Z",
     "iopub.status.busy": "2022-02-12T17:14:26.864829Z",
     "iopub.status.idle": "2022-02-12T17:14:26.867896Z",
     "shell.execute_reply": "2022-02-12T17:14:26.868443Z",
     "shell.execute_reply.started": "2022-02-12T17:08:58.076496Z"
    },
    "papermill": {
     "duration": 0.04304,
     "end_time": "2022-02-12T17:14:26.868608",
     "exception": false,
     "start_time": "2022-02-12T17:14:26.825568",
     "status": "completed"
    },
    "tags": []
   },
   "outputs": [],
   "source": [
    "# Lines below will give you a hint or solution code\n",
    "#step_4.a.hint()\n",
    "#step_4.a.solution_plot()"
   ]
  },
  {
   "cell_type": "markdown",
   "id": "d613ce37",
   "metadata": {
    "papermill": {
     "duration": 0.037169,
     "end_time": "2022-02-12T17:14:26.942186",
     "exception": false,
     "start_time": "2022-02-12T17:14:26.905017",
     "status": "completed"
    },
    "tags": []
   },
   "source": [
    "#### Part B\n",
    "\n",
    "A hospital has recently started using an algorithm that can diagnose tumors with high accuracy.  Given a tumor with a value for `'Radius (worst)'` of 25, do you think the algorithm is more likely to classify the tumor as benign or malignant?"
   ]
  },
  {
   "cell_type": "code",
   "execution_count": 15,
   "id": "667000da",
   "metadata": {
    "execution": {
     "iopub.execute_input": "2022-02-12T17:14:27.018684Z",
     "iopub.status.busy": "2022-02-12T17:14:27.018007Z",
     "iopub.status.idle": "2022-02-12T17:14:27.020871Z",
     "shell.execute_reply": "2022-02-12T17:14:27.021474Z"
    },
    "papermill": {
     "duration": 0.042779,
     "end_time": "2022-02-12T17:14:27.021659",
     "exception": false,
     "start_time": "2022-02-12T17:14:26.978880",
     "status": "completed"
    },
    "tags": []
   },
   "outputs": [],
   "source": [
    "#step_4.b.hint()"
   ]
  },
  {
   "cell_type": "code",
   "execution_count": 16,
   "id": "a4cac827",
   "metadata": {
    "execution": {
     "iopub.execute_input": "2022-02-12T17:14:27.100053Z",
     "iopub.status.busy": "2022-02-12T17:14:27.099411Z",
     "iopub.status.idle": "2022-02-12T17:14:27.105014Z",
     "shell.execute_reply": "2022-02-12T17:14:27.105559Z",
     "shell.execute_reply.started": "2022-02-12T17:09:32.978567Z"
    },
    "papermill": {
     "duration": 0.046361,
     "end_time": "2022-02-12T17:14:27.105735",
     "exception": false,
     "start_time": "2022-02-12T17:14:27.059374",
     "status": "completed"
    },
    "tags": []
   },
   "outputs": [
    {
     "data": {
      "application/javascript": [
       "parent.postMessage({\"jupyterEvent\": \"custom.exercise_interaction\", \"data\": {\"interactionType\": 3, \"questionType\": 4, \"questionId\": \"4.2_ThinkThreshold\", \"learnToolsVersion\": \"0.3.4\", \"valueTowardsCompletion\": 0.0, \"failureMessage\": \"\", \"exceptionClass\": \"\", \"trace\": \"\", \"outcomeType\": 4}}, \"*\")"
      ],
      "text/plain": [
       "<IPython.core.display.Javascript object>"
      ]
     },
     "metadata": {},
     "output_type": "display_data"
    },
    {
     "data": {
      "text/markdown": [
       "<span style=\"color:#33cc99\">Solution:</span> The algorithm is more likely to classify the tumor as malignant. This is because the curve for malignant tumors is much higher than the curve for benign tumors around a value of 25 -- and an algorithm that gets high accuracy is likely to make decisions based on this pattern in the data."
      ],
      "text/plain": [
       "Solution: The algorithm is more likely to classify the tumor as malignant. This is because the curve for malignant tumors is much higher than the curve for benign tumors around a value of 25 -- and an algorithm that gets high accuracy is likely to make decisions based on this pattern in the data."
      ]
     },
     "metadata": {},
     "output_type": "display_data"
    }
   ],
   "source": [
    "# Check your answer (Run this code cell to receive credit!)\n",
    "step_4.b.solution()"
   ]
  },
  {
   "cell_type": "markdown",
   "id": "91200a7f",
   "metadata": {
    "papermill": {
     "duration": 0.037806,
     "end_time": "2022-02-12T17:14:27.182155",
     "exception": false,
     "start_time": "2022-02-12T17:14:27.144349",
     "status": "completed"
    },
    "tags": []
   },
   "source": [
    "## Keep going\n",
    "\n",
    "Review all that you've learned and explore how to further customize your plots in the **[next tutorial](https://www.kaggle.com/alexisbcook/choosing-plot-types-and-custom-styles)**!"
   ]
  },
  {
   "cell_type": "markdown",
   "id": "8073d51c",
   "metadata": {
    "papermill": {
     "duration": 0.038601,
     "end_time": "2022-02-12T17:14:27.259085",
     "exception": false,
     "start_time": "2022-02-12T17:14:27.220484",
     "status": "completed"
    },
    "tags": []
   },
   "source": [
    "---\n",
    "\n",
    "\n",
    "\n",
    "\n",
    "*Have questions or comments? Visit the [course discussion forum](https://www.kaggle.com/learn/data-visualization/discussion) to chat with other learners.*"
   ]
  }
 ],
 "metadata": {
  "kernelspec": {
   "display_name": "Python 3",
   "language": "python",
   "name": "python3"
  },
  "language_info": {
   "codemirror_mode": {
    "name": "ipython",
    "version": 3
   },
   "file_extension": ".py",
   "mimetype": "text/x-python",
   "name": "python",
   "nbconvert_exporter": "python",
   "pygments_lexer": "ipython3",
   "version": "3.7.12"
  },
  "papermill": {
   "default_parameters": {},
   "duration": 13.985598,
   "end_time": "2022-02-12T17:14:28.007292",
   "environment_variables": {},
   "exception": null,
   "input_path": "__notebook__.ipynb",
   "output_path": "__notebook__.ipynb",
   "parameters": {},
   "start_time": "2022-02-12T17:14:14.021694",
   "version": "2.3.3"
  }
 },
 "nbformat": 4,
 "nbformat_minor": 5
}
